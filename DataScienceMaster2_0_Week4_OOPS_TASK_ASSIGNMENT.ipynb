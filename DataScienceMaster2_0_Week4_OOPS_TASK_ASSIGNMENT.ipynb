{
  "nbformat": 4,
  "nbformat_minor": 0,
  "metadata": {
    "colab": {
      "provenance": []
    },
    "kernelspec": {
      "name": "python3",
      "display_name": "Python 3"
    },
    "language_info": {
      "name": "python"
    }
  },
  "cells": [
    {
      "cell_type": "markdown",
      "source": [
        "Q1. Explain Class and Object with respect to Object-Oriented Programming. Give a suitable example."
      ],
      "metadata": {
        "id": "kcLSQt_nfdUu"
      }
    },
    {
      "cell_type": "code",
      "execution_count": 4,
      "metadata": {
        "id": "sYCADkx5ezgR"
      },
      "outputs": [],
      "source": [
        "# class is basically a blueprint or structrue of any real world entity in python we create a class by using \"class\" keyword.\n",
        "# In python everything is an object with its property and method here we create the objet of class to call the variable and function of class\n",
        "# Example:\n",
        "class Intro:\n",
        "  def student(self):\n",
        "    return \"Hi, I am a student\""
      ]
    },
    {
      "cell_type": "code",
      "source": [
        "student_intro = Intro()\n",
        "student_intro.student()"
      ],
      "metadata": {
        "colab": {
          "base_uri": "https://localhost:8080/",
          "height": 36
        },
        "id": "p5SZryQ3haau",
        "outputId": "6036618a-9f6f-4888-915d-2f3b7a84fac1"
      },
      "execution_count": 5,
      "outputs": [
        {
          "output_type": "execute_result",
          "data": {
            "text/plain": [
              "'Hi, I am a student'"
            ],
            "application/vnd.google.colaboratory.intrinsic+json": {
              "type": "string"
            }
          },
          "metadata": {},
          "execution_count": 5
        }
      ]
    },
    {
      "cell_type": "markdown",
      "source": [
        "Q2. Name the four pillars of OOPs."
      ],
      "metadata": {
        "id": "IlM_Ps4miEWc"
      }
    },
    {
      "cell_type": "code",
      "source": [
        "# The four pillar of OOPS are\n",
        "# 1. Polymorphism(create more than one function with same name but of different signature or in different class )\n",
        "# 2. Encapsulation( wrapping up of data and function inside a single class this put restrictions on accessing methods and variables directly)\n",
        "# 3. Inheritance( Inheritance is an ability to derive new class from existing class or inherits parent class features into child class)\n",
        "# 4. Abstraction"
      ],
      "metadata": {
        "id": "HVlpTfG2iDy2"
      },
      "execution_count": null,
      "outputs": []
    },
    {
      "cell_type": "markdown",
      "source": [
        "Q3. Explain why the __init__() function is used. Give a suitable example."
      ],
      "metadata": {
        "id": "dcA0Q3cTjxm2"
      }
    },
    {
      "cell_type": "code",
      "source": [
        "# In python __init__() is basically act as a constructor this is the first function that can call automatically when the object of class is created\n",
        "class calculation:\n",
        "  def __init__(self, var1, var2):\n",
        "    self.var1 = var1\n",
        "    self.var2 = var2\n",
        "\n",
        "  def result(self):\n",
        "    return self.var1+self.var2"
      ],
      "metadata": {
        "id": "JTr6kmb6jw8Q"
      },
      "execution_count": 7,
      "outputs": []
    },
    {
      "cell_type": "code",
      "source": [
        "calc = calculation(18, 27)\n",
        "calc.result()"
      ],
      "metadata": {
        "colab": {
          "base_uri": "https://localhost:8080/"
        },
        "id": "TzXE29a5lAN_",
        "outputId": "91e60ec3-f65f-46fe-9eb0-63f34ee2badd"
      },
      "execution_count": 9,
      "outputs": [
        {
          "output_type": "execute_result",
          "data": {
            "text/plain": [
              "45"
            ]
          },
          "metadata": {},
          "execution_count": 9
        }
      ]
    },
    {
      "cell_type": "markdown",
      "source": [
        "Q4. Why self is used in OOPs?"
      ],
      "metadata": {
        "id": "uX_qSjtmlOns"
      }
    },
    {
      "cell_type": "code",
      "source": [
        "# self is used in opps to pointing the current object of the class\n",
        "class self_intro:\n",
        "    def __init__(self):\n",
        "        print(\"Address of self = \",id(self))\n",
        "intro = self_intro()\n",
        "# print(intro)"
      ],
      "metadata": {
        "colab": {
          "base_uri": "https://localhost:8080/"
        },
        "id": "gpLLvM6_lOAH",
        "outputId": "637d9159-2ed0-496d-c9f4-16c2ca47ab9b"
      },
      "execution_count": 11,
      "outputs": [
        {
          "output_type": "stream",
          "name": "stdout",
          "text": [
            "Address of self =  140650281005984\n"
          ]
        }
      ]
    },
    {
      "cell_type": "markdown",
      "source": [
        "Q5. What is inheritance? Give an example for each type of inheritance."
      ],
      "metadata": {
        "id": "00uO36Ulmdd9"
      }
    },
    {
      "cell_type": "code",
      "source": [
        "# Inheritance is an ability to derive the new class from the existing class or inherits the features of parent class into child class\n",
        "# types of inheritance in python"
      ],
      "metadata": {
        "id": "7baHwb23mdDf"
      },
      "execution_count": 12,
      "outputs": []
    },
    {
      "cell_type": "code",
      "source": [
        "# single inheritance\n",
        "class parent:\n",
        "  def func1(self):\n",
        "    print(\"This function is of parent class\")\n",
        "\n",
        "class child(parent):            # it inherit the feature of parent class\n",
        "  def func2(self):\n",
        "    print(\"This function is of child class\")\n",
        "\n",
        "obj = child()     # creating object of child class\n",
        "obj.func1()\n",
        "obj.func2()"
      ],
      "metadata": {
        "colab": {
          "base_uri": "https://localhost:8080/"
        },
        "id": "90HcBTXfm7Ne",
        "outputId": "08e647d4-b5cb-4e4a-cc76-8bd8d46aa865"
      },
      "execution_count": 14,
      "outputs": [
        {
          "output_type": "stream",
          "name": "stdout",
          "text": [
            "This function is of parent class\n",
            "This function is of child class\n"
          ]
        }
      ]
    },
    {
      "cell_type": "code",
      "source": [
        "# Multiple Inheritance\n",
        "class parent1:\n",
        "  def func1(self):\n",
        "    print(\"This function is of parent1 class\")\n",
        "\n",
        "class parent2:\n",
        "  def func2(self):\n",
        "    print(\"This function is of parent2 class\")\n",
        "\n",
        "class child(parent1, parent2):            # it inherit the features of both the parent class\n",
        "  def func3(self):\n",
        "    print(\"This function is of child class\")\n",
        "\n",
        "obj = child()\n",
        "obj.func1()\n",
        "obj.func2()\n",
        "obj.func3()"
      ],
      "metadata": {
        "colab": {
          "base_uri": "https://localhost:8080/"
        },
        "id": "i-1NX_x1u54e",
        "outputId": "69baf7d5-c27f-4981-a183-0443e1de79ba"
      },
      "execution_count": 15,
      "outputs": [
        {
          "output_type": "stream",
          "name": "stdout",
          "text": [
            "This function is of parent1 class\n",
            "This function is of parent2 class\n",
            "This function is of child class\n"
          ]
        }
      ]
    },
    {
      "cell_type": "code",
      "source": [
        "# Multilevel Inheritance\n",
        "class grandfather:\n",
        "  def func1(self):\n",
        "    print(\"This function is of grandfather class\")\n",
        "\n",
        "class father(grandfather):\n",
        "  def func2(self):\n",
        "    print(\"This function is of father class\")\n",
        "\n",
        "class child(father):            # it inherit the features of both the parent class\n",
        "  def func3(self):\n",
        "    print(\"This function is of child class\")\n",
        "\n",
        "obj = child()\n",
        "obj.func1()\n",
        "obj.func2()\n",
        "obj.func3()"
      ],
      "metadata": {
        "colab": {
          "base_uri": "https://localhost:8080/"
        },
        "id": "X97-LE5Wvtrn",
        "outputId": "ac1ce2ca-a869-4fe0-b5c6-29302895bf06"
      },
      "execution_count": 16,
      "outputs": [
        {
          "output_type": "stream",
          "name": "stdout",
          "text": [
            "This function is of grandfather class\n",
            "This function is of father class\n",
            "This function is of child class\n"
          ]
        }
      ]
    },
    {
      "cell_type": "code",
      "source": [
        "# Hierarchical Inheritance\n",
        "class parent:\n",
        "  def func1(self):\n",
        "    print(\"This function is of parent class\")\n",
        "\n",
        "class child1(parent):\n",
        "  def func2(self):\n",
        "    print(\"This function is of chld1 class\")\n",
        "\n",
        "class child2(parent):            # it inherit the features of both the parent class\n",
        "  def func3(self):\n",
        "    print(\"This function is of child2 class\")\n",
        "\n",
        "obj1 = child1()\n",
        "obj2 = child2()\n",
        "obj1.func1()\n",
        "obj1.func2()\n",
        "obj2.func1()\n",
        "obj2.func3()"
      ],
      "metadata": {
        "colab": {
          "base_uri": "https://localhost:8080/"
        },
        "id": "-GViH8_FwPZb",
        "outputId": "8dc89317-bd10-447d-f761-250bc65ed932"
      },
      "execution_count": 17,
      "outputs": [
        {
          "output_type": "stream",
          "name": "stdout",
          "text": [
            "This function is of parent class\n",
            "This function is of chld1 class\n",
            "This function is of parent class\n",
            "This function is of child2 class\n"
          ]
        }
      ]
    },
    {
      "cell_type": "code",
      "source": [
        "# Hybrid Inheritance\n",
        "class parent1:\n",
        "  def func1(self):\n",
        "    print(\"This function is of parent class\")\n",
        "\n",
        "class child1(parent):\n",
        "  def func2(self):\n",
        "    print(\"This function is of chld1 class\")\n",
        "\n",
        "class child2(parent):            # it inherit the features of both the parent class\n",
        "  def func3(self):\n",
        "    print(\"This function is of child2 class\")\n",
        "\n",
        "class friend(child1, child2):\n",
        "  def func4(self):\n",
        "    print(\"This function is of friend class\")\n",
        "\n",
        "fri = friend()\n",
        "fri.func4()\n",
        "fri.func3()\n",
        "fri.func2()\n",
        "fri.func1()"
      ],
      "metadata": {
        "colab": {
          "base_uri": "https://localhost:8080/"
        },
        "id": "ksgUXFLo10p8",
        "outputId": "d73cf2d6-f681-4d57-898d-94e52570041e"
      },
      "execution_count": 18,
      "outputs": [
        {
          "output_type": "stream",
          "name": "stdout",
          "text": [
            "This function is of friend class\n",
            "This function is of child2 class\n",
            "This function is of chld1 class\n",
            "This function is of parent class\n"
          ]
        }
      ]
    }
  ]
}