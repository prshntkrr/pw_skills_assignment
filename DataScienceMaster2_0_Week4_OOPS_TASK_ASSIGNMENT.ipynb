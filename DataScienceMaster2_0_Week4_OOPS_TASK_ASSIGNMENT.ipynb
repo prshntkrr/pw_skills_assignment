{
  "nbformat": 4,
  "nbformat_minor": 0,
  "metadata": {
    "colab": {
      "provenance": []
    },
    "kernelspec": {
      "name": "python3",
      "display_name": "Python 3"
    },
    "language_info": {
      "name": "python"
    }
  },
  "cells": [
    {
      "cell_type": "markdown",
      "source": [
        "Q1, Create a vehicle class with an init method having instance variables as name_of_vehicle, max_speed\n",
        "and average_of_vehicle."
      ],
      "metadata": {
        "id": "TQdZ2hVN8d42"
      }
    },
    {
      "cell_type": "code",
      "execution_count": null,
      "metadata": {
        "colab": {
          "base_uri": "https://localhost:8080/"
        },
        "id": "YT6rNW2K8Zmw",
        "outputId": "d7cee904-b689-472b-d4d2-1806f9581349"
      },
      "outputs": [
        {
          "output_type": "stream",
          "name": "stdout",
          "text": [
            "('car', 280, '35kmph')\n"
          ]
        }
      ],
      "source": [
        "class vehicle:\n",
        "  def __init__(self, name_of_vehicle, max_speed, average_of_vehicle):\n",
        "    self.name = name_of_vehicle\n",
        "    self.max_speed = max_speed\n",
        "    self.average_of_vechicle = average_of_vehicle\n",
        "\n",
        "  def info(self):\n",
        "    return self.name, self.max_speed, self.average_of_vechicle\n",
        "\n",
        "vech = vehicle(\"car\", 280, \"35kmph\")\n",
        "print(vech.info())"
      ]
    },
    {
      "cell_type": "markdown",
      "source": [
        "Q2. Create a child class car from the vehicle class created in Que 1, which will inherit the vehicle class.\n",
        "Create a method named seating_capacity which takes capacity as an argument and returns the name of\n",
        "the vehicle and its seating capacity."
      ],
      "metadata": {
        "id": "Isu0ZqeN-0AZ"
      }
    },
    {
      "cell_type": "code",
      "source": [
        "class car(vehicle):\n",
        "  def seating_capacity(self,capacity):\n",
        "    return self.name, capacity\n",
        "\n",
        "vech = car(\"car\", 280, \"35kmph\")\n",
        "vech.seating_capacity(5)"
      ],
      "metadata": {
        "colab": {
          "base_uri": "https://localhost:8080/"
        },
        "id": "2Nh4sIqZ-zTG",
        "outputId": "89477306-856d-4560-bef0-4255135605bb"
      },
      "execution_count": null,
      "outputs": [
        {
          "output_type": "execute_result",
          "data": {
            "text/plain": [
              "('car', 5)"
            ]
          },
          "metadata": {},
          "execution_count": 10
        }
      ]
    },
    {
      "cell_type": "markdown",
      "source": [
        "Q3. What is multiple inheritance? Write a python code to demonstrate multiple inheritance."
      ],
      "metadata": {
        "id": "w5UcSNDhNrVf"
      }
    },
    {
      "cell_type": "code",
      "source": [
        "# Multiple Inheritance: when a child class inherit multiple parent class than it is called multiple inheritance.\n",
        "class parent1:\n",
        "  def func1(self):\n",
        "    print(\"This function is of parent1 class\")\n",
        "\n",
        "class parent2:\n",
        "  def func2(self):\n",
        "    print(\"This function is of parent2 class\")\n",
        "\n",
        "class child(parent1, parent2):            # it inherit the features of both the parent class\n",
        "  def func3(self):\n",
        "    print(\"This function is of child class\")\n",
        "\n",
        "obj = child()\n",
        "obj.func1()\n",
        "obj.func2()\n",
        "obj.func3()"
      ],
      "metadata": {
        "colab": {
          "base_uri": "https://localhost:8080/"
        },
        "id": "1HYiJDMRNqdS",
        "outputId": "faede3ac-881d-454c-e2ef-7fc7f38b9b68"
      },
      "execution_count": null,
      "outputs": [
        {
          "output_type": "stream",
          "name": "stdout",
          "text": [
            "This function is of parent1 class\n",
            "This function is of parent2 class\n",
            "This function is of child class\n"
          ]
        }
      ]
    },
    {
      "cell_type": "markdown",
      "source": [
        "Q4. What are getter and setter in python? Create a class and create a getter and a setter method in this\n",
        "class."
      ],
      "metadata": {
        "id": "8sY_wsqqObwD"
      }
    },
    {
      "cell_type": "code",
      "source": [
        "# Setter is use to set the value for privately access specified variable\n",
        "# getter is use to get the value of privately access specified variable\n",
        "class account:\n",
        "  def __init__(self, balance):\n",
        "    self.__balance = balance\n",
        "  @property\n",
        "  def get_balance(self):\n",
        "    return self.__balance\n",
        "\n",
        "  @get_balance.setter\n",
        "  def set_balance(self, amount):\n",
        "    self.__balance = amount\n",
        "\n",
        "acc = account(12000)\n",
        "# acc.balance            //it shows 'account' object has no attribute 'balance'\n",
        "acc.set_balance = 10000  #setter function call\n",
        "acc.get_balance      #getter function call"
      ],
      "metadata": {
        "colab": {
          "base_uri": "https://localhost:8080/"
        },
        "id": "gPBbvQtqObJz",
        "outputId": "014e415a-6ef2-4639-edc0-309b83281a7f"
      },
      "execution_count": 4,
      "outputs": [
        {
          "output_type": "execute_result",
          "data": {
            "text/plain": [
              "10000"
            ]
          },
          "metadata": {},
          "execution_count": 4
        }
      ]
    },
    {
      "cell_type": "markdown",
      "source": [
        "Q5.What is method overriding in python? Write a python code to demonstrate method overriding."
      ],
      "metadata": {
        "id": "J8p_2w4bf7i8"
      }
    },
    {
      "cell_type": "code",
      "source": [
        "# method overriding means a method that have same name and signautre but they are in different classes\n",
        "#example\n",
        "class parent:\n",
        "  def fun1(self):\n",
        "    print(\"i am function1 of parent class\")\n",
        "\n",
        "class child(parent):\n",
        "  def fun1(self):\n",
        "    super().fun1()      # here we use super to call the function of base class first it call parent class function than child class function\n",
        "    print(\"i am function1 of child class\")\n",
        "\n",
        "obj =child()\n",
        "obj.fun1()"
      ],
      "metadata": {
        "colab": {
          "base_uri": "https://localhost:8080/"
        },
        "id": "6UNDOFQ4f69r",
        "outputId": "659785a1-19e3-4f6e-f570-1c34c072f41d"
      },
      "execution_count": null,
      "outputs": [
        {
          "output_type": "stream",
          "name": "stdout",
          "text": [
            "i am function1 of parent class\n",
            "i am function1 of child class\n"
          ]
        }
      ]
    }
  ]
}