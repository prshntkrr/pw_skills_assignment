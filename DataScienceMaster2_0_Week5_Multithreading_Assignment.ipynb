{
  "nbformat": 4,
  "nbformat_minor": 0,
  "metadata": {
    "colab": {
      "provenance": []
    },
    "kernelspec": {
      "name": "python3",
      "display_name": "Python 3"
    },
    "language_info": {
      "name": "python"
    }
  },
  "cells": [
    {
      "cell_type": "markdown",
      "source": [
        "Q1. What is multithreading in python? Why is it used? Name the module used to handle threads in python"
      ],
      "metadata": {
        "id": "MK1ca1y8BV_R"
      }
    },
    {
      "cell_type": "code",
      "source": [
        "# Multithreading in Python refers to the ability of a program to simultaneously execute multiple threads (smaller units of a program) within a single process.\n",
        "# Each thread runs independently and can perform its own set of tasks concurrently with other threads. Python provides a built-in threading module to handle threads.\n",
        "# Multithreading is used in Python for various purposes, including:\n",
        "#   1. Concurrent execution: Multithreading allows multiple tasks or operations to be executed simultaneously, improving overall program performance and responsiveness.\n",
        "#   It is useful when dealing with tasks that can run independently and don't require synchronization or blocking.\n",
        "#   2. Parallel processing: Multithreading enables parallel processing of tasks on systems with multiple CPU cores.\n",
        "#   It can speed up CPU-intensive operations by utilizing the available cores effectively.\n",
        "#   3. Asynchronous operations: Multithreading is used in asynchronous programming models to handle concurrent I/O operations without blocking the execution flow.\n",
        "#   It allows programs to perform other tasks while waiting for I/O operations to complete, resulting in improved efficiency and responsiveness.\n",
        "# The threading module in Python provides classes and functions to create and manage threads. It offers a higher-level interface for working with threads compared to the\n",
        "# lower-level thread module. With threading, we can create and start threads, synchronize their execution, share data between threads, and handle exceptions and thread-specific\n",
        "# operations."
      ],
      "metadata": {
        "id": "vTLaxCeTBVHY"
      },
      "execution_count": null,
      "outputs": []
    },
    {
      "cell_type": "markdown",
      "source": [
        "Q2. Why threading module used? Write the use of the following functions\n",
        "1. activeCount()\n",
        "2. currentThread()\n",
        "3. enumerate()"
      ],
      "metadata": {
        "id": "doCmIWT0F8iR"
      }
    },
    {
      "cell_type": "code",
      "source": [
        "The threading module in Python is used to create and manage threads. It provides a higher-level interface for working with threads compared to the lower-level thread module.\n",
        "Some of the functions provided by the threading module are:\n",
        "1. activeCount(): This function returns the number of Thread objects currently alive. It provides a count of the active threads running in the program.\n",
        "                  It can be used to monitor the number of threads and track their status.\n",
        "                  Example:\n",
        "                          import threading\n",
        "\n",
        "                          def my_function():\n",
        "                              print(\"Hello from thread\")\n",
        "\n",
        "                          thread1 = threading.Thread(target=my_function)\n",
        "                          thread2 = threading.Thread(target=my_function)\n",
        "\n",
        "                          thread1.start()\n",
        "                          thread2.start()\n",
        "\n",
        "                          print(\"Active threads:\", threading.activeCount())\n",
        "2. currentThread(): This function returns the current Thread object corresponding to the caller's thread of control. It can be used to obtain information about the\n",
        "                    current thread, such as its name, identification number, or other properties.\n",
        "                    Example:\n",
        "                            import threading\n",
        "\n",
        "                            def my_function():\n",
        "                                print(\"Current thread:\", threading.currentThread().getName())\n",
        "\n",
        "                            thread = threading.Thread(target=my_function)\n",
        "                            thread.start()\n",
        "3. enumerate(): This function returns a list of all Thread objects currently alive. It provides a way to iterate over all active threads and obtain information about\n",
        "                each thread.\n",
        "                Example:\n",
        "                        import threading\n",
        "\n",
        "                        def my_function():\n",
        "                            print(\"Hello from thread\")\n",
        "\n",
        "                        thread1 = threading.Thread(target=my_function)\n",
        "                        thread2 = threading.Thread(target=my_function)\n",
        "\n",
        "                        thread1.start()\n",
        "                        thread2.start()\n",
        "\n",
        "                        for thread in threading.enumerate():\n",
        "                            print(\"Thread name:\", thread.getName())"
      ],
      "metadata": {
        "id": "hbi658NGFAqb"
      },
      "execution_count": null,
      "outputs": []
    },
    {
      "cell_type": "markdown",
      "source": [
        "Q3. Explain the following functions\n",
        "1. run()\n",
        "2. start()\n",
        "3. join()\n",
        "4. isAlive()"
      ],
      "metadata": {
        "id": "v6m8zIj2KdoJ"
      }
    },
    {
      "cell_type": "code",
      "execution_count": null,
      "metadata": {
        "id": "YsFl279_BFaq"
      },
      "outputs": [],
      "source": [
        "1. run(): The run() method is the entry point for the thread's activity. It contains the code that will be executed when the thread is started.\n",
        "         It is typically overridden in a subclass to define the specific task or functionality that the thread will perform.\n",
        "        Example:\n",
        "              import threading\n",
        "\n",
        "              class MyThread(threading.Thread):\n",
        "                  def run(self):\n",
        "                      print(\"Thread is running\")\n",
        "\n",
        "              thread = MyThread()\n",
        "              thread.run()\n",
        "2. start(): The start() method is used to start a new thread and initiate its activity. It creates a new thread of execution and calls the run() method in that new thread.\n",
        "            Example:\n",
        "                import threading\n",
        "\n",
        "                def my_function():\n",
        "                    print(\"Thread is running\")\n",
        "\n",
        "                thread = threading.Thread(target=my_function)\n",
        "                thread.start()\n",
        "3. join(): The join() method is used to wait for the completion of a thread. It blocks the execution of the calling thread until the thread it is called on has completed its execution.\n",
        "            Example:\n",
        "                  import threading\n",
        "\n",
        "                  def my_function():\n",
        "                      print(\"Thread is running\")\n",
        "\n",
        "                  thread = threading.Thread(target=my_function)\n",
        "                  thread.start()\n",
        "                  thread.join()\n",
        "                  print(\"Thread has completed\")\n",
        "4. isAlive(): The isAlive() method is used to check if a thread is currently alive or running. It returns True if the thread is active and has not yet completed,\n",
        "              and False otherwise.\n",
        "              Example:\n",
        "                    import threading\n",
        "                    import time\n",
        "\n",
        "                    def my_function():\n",
        "                        time.sleep(2)\n",
        "\n",
        "                    thread = threading.Thread(target=my_function)\n",
        "                    thread.start()\n",
        "\n",
        "                    print(\"Thread is alive?\", thread.isAlive())\n",
        "                    time.sleep(3)\n",
        "                    print(\"Thread is alive?\", thread.isAlive())"
      ]
    },
    {
      "cell_type": "markdown",
      "source": [
        "Q4. Write a python program to create two threads. Thread one must print the list of squares and thread two must print the list of cubes"
      ],
      "metadata": {
        "id": "bJKLxTUiNI7h"
      }
    },
    {
      "cell_type": "code",
      "source": [
        "import threading\n",
        "\n",
        "def print_squares():\n",
        "    squares = [x**2 for x in range(1, 11)]\n",
        "    print(\"List of Squares:\", squares)\n",
        "\n",
        "def print_cubes():\n",
        "    cubes = [x**3 for x in range(1, 11)]\n",
        "    print(\"List of Cubes:\", cubes)\n",
        "\n",
        "# Create the first thread for squares\n",
        "thread1 = threading.Thread(target=print_squares)\n",
        "\n",
        "# Create the second thread for cubes\n",
        "thread2 = threading.Thread(target=print_cubes)\n",
        "\n",
        "# Start both threads\n",
        "thread1.start()\n",
        "thread2.start()\n",
        "\n",
        "# Wait for both threads to complete\n",
        "thread1.join()\n",
        "thread2.join()\n",
        "\n",
        "print(\"Main thread completed.\")"
      ],
      "metadata": {
        "colab": {
          "base_uri": "https://localhost:8080/"
        },
        "id": "ZOJllWPTNIUD",
        "outputId": "d95dce6d-1d44-46ac-aab1-03e4b4da42c8"
      },
      "execution_count": 1,
      "outputs": [
        {
          "output_type": "stream",
          "name": "stdout",
          "text": [
            "List of Squares: [1, 4, 9, 16, 25, 36, 49, 64, 81, 100]\n",
            "List of Cubes: [1, 8, 27, 64, 125, 216, 343, 512, 729, 1000]\n",
            "Main thread completed.\n"
          ]
        }
      ]
    },
    {
      "cell_type": "markdown",
      "source": [
        "Q5. State advantages and disadvantages of multithreading"
      ],
      "metadata": {
        "id": "U4rUo6q6NkJi"
      }
    },
    {
      "cell_type": "code",
      "source": [
        "Advantages:\n",
        "          * Enhanced performance by decreased development time\n",
        "          * Simplified and streamlined program coding\n",
        "          * Improvised GUI responsiveness\n",
        "          * Simultaneous and parallelized occurrence of tasks\n",
        "          * Better use of cache storage by utilization of resources\n",
        "          * Decreased cost of maintenance\n",
        "          * Better use of CPU resource\n",
        "\n",
        "Disadvantages:\n",
        "          * Complex debugging and testing processes\n",
        "          * Overhead switching of context\n",
        "          * Increased potential for deadlock occurrence\n",
        "          * Increased difficulty level in writing a program\n",
        "          * Unpredictable results"
      ],
      "metadata": {
        "id": "zCxS4C6-Njty"
      },
      "execution_count": null,
      "outputs": []
    },
    {
      "cell_type": "markdown",
      "source": [
        "Q6. Explain deadlocks and race conditions."
      ],
      "metadata": {
        "id": "2w-JfriiOYH-"
      }
    },
    {
      "cell_type": "code",
      "source": [
        "# Deadlock:\n",
        "# A deadlock occurs when two or more threads or processes are waiting for each other to release resources, resulting in a situation where none of them can proceed.\n",
        "# Deadlocks can happen in concurrent systems where multiple threads or processes share resources and have conflicting requirements.\n",
        "# There are four necessary conditions for a deadlock to occur: mutual exclusion, hold and wait, no preemption, and circular wait.\n",
        "\n",
        "# Race Condition:\n",
        "# A race condition is a situation in which the behavior of a program depends on the relative timing of events or operations. It occurs when multiple threads or processes\n",
        "# access shared data concurrently, and the final outcome of the program depends on the order in which the operations are executed. Race conditions can lead to unexpected\n",
        "# and erroneous results, as the correctness of the program relies on a particular execution order that may not always be guaranteed.\n",
        "\n",
        "# In a race condition, the expected outcome may be compromised due to inconsistent or unexpected interleavings of the concurrent operations. For example, if two threads\n",
        "# increment a shared variable concurrently, the final value of the variable may not be what is expected because the increments can overlap or overwrite each other."
      ],
      "metadata": {
        "id": "DYPBmw-2OXos"
      },
      "execution_count": null,
      "outputs": []
    }
  ]
}