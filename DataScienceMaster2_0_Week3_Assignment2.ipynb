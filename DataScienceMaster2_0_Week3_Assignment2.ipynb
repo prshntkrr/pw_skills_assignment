{
  "nbformat": 4,
  "nbformat_minor": 0,
  "metadata": {
    "colab": {
      "provenance": []
    },
    "kernelspec": {
      "name": "python3",
      "display_name": "Python 3"
    },
    "language_info": {
      "name": "python"
    }
  },
  "cells": [
    {
      "cell_type": "markdown",
      "source": [
        "Q1. Create a python program to sort the given list of tuples based on integer value using a\n",
        "lambda function.\n",
        "[('Sachin Tendulkar', 34357), ('Ricky Ponting', 27483), ('Jack Kallis', 25534), ('Virat Kohli', 24936)]"
      ],
      "metadata": {
        "id": "GGuOpkKeMDjK"
      }
    },
    {
      "cell_type": "code",
      "execution_count": 2,
      "metadata": {
        "id": "La7lnS1nIJs9",
        "colab": {
          "base_uri": "https://localhost:8080/"
        },
        "outputId": "7c26199f-89ab-49ea-a443-f449980c3534"
      },
      "outputs": [
        {
          "output_type": "stream",
          "name": "stdout",
          "text": [
            "[('Sachin Tendulkar', 34357), ('Ricky Ponting', 27483), ('Jack Kallis', 25534), ('Virat Kohli', 24936)]\n"
          ]
        }
      ],
      "source": [
        "players = [('Sachin Tendulkar', 34357), ('Ricky Ponting', 27483), ('Jack Kallis', 25534), ('Virat Kohli', 24936)]\n",
        "sortedList = sorted(players, key = lambda x : x[1],reverse=True)\n",
        "print(sortedList)"
      ]
    },
    {
      "cell_type": "markdown",
      "source": [
        "Q2. Write a Python Program to find the squares of all the numbers in the given list of integers using\n",
        "lambda and map functions.\n",
        "[1, 2, 3, 4, 5, 6, 7, 8, 9, 10]"
      ],
      "metadata": {
        "id": "SuvO5nEQWtDa"
      }
    },
    {
      "cell_type": "code",
      "source": [
        "numbers = [1, 2, 3, 4, 5, 6, 7, 8, 9, 10]\n",
        "squared = list(map(lambda x: x**2, numbers))\n",
        "print(squared)"
      ],
      "metadata": {
        "colab": {
          "base_uri": "https://localhost:8080/"
        },
        "id": "XvFT1IisWsMZ",
        "outputId": "5d2827b9-763d-4176-8629-81c3b4235d20"
      },
      "execution_count": 3,
      "outputs": [
        {
          "output_type": "stream",
          "name": "stdout",
          "text": [
            "[1, 4, 9, 16, 25, 36, 49, 64, 81, 100]\n"
          ]
        }
      ]
    },
    {
      "cell_type": "markdown",
      "source": [
        "Q3. Write a python program to convert the given list of integers into a tuple of strings. Use map and\n",
        "lambda functions"
      ],
      "metadata": {
        "id": "cnUgBDB4XMHD"
      }
    },
    {
      "cell_type": "code",
      "source": [
        "numbers =  [1, 2, 3, 4, 5, 6, 7, 8, 9, 10]\n",
        "str_tuple = tuple(map(lambda x: str(x), numbers))\n",
        "print(str_tuple)"
      ],
      "metadata": {
        "colab": {
          "base_uri": "https://localhost:8080/"
        },
        "id": "6TTihtzUXLjN",
        "outputId": "af500248-520e-4630-8bce-e7767fd8d399"
      },
      "execution_count": 5,
      "outputs": [
        {
          "output_type": "stream",
          "name": "stdout",
          "text": [
            "('1', '2', '3', '4', '5', '6', '7', '8', '9', '10')\n"
          ]
        }
      ]
    },
    {
      "cell_type": "markdown",
      "source": [
        "Q4. Write a python program using reduce function to compute the product of a list containing numbers\n",
        "from 1 to 25."
      ],
      "metadata": {
        "id": "-d1r_XjlX2O1"
      }
    },
    {
      "cell_type": "code",
      "source": [
        "import functools\n",
        "data = [1, 2, 3, 4, 5, 6, 7, 8, 9, 10, 11, 12, 13, 14, 15, 16, 17, 18, 19, 20, 21, 22, 23, 24, 25]\n",
        "product = functools.reduce(lambda x,y: x*y, data)\n",
        "print(product)"
      ],
      "metadata": {
        "colab": {
          "base_uri": "https://localhost:8080/"
        },
        "id": "dFJL8h-CX1lL",
        "outputId": "7683de43-d605-43a5-b3ec-73e21077e3fc"
      },
      "execution_count": 6,
      "outputs": [
        {
          "output_type": "stream",
          "name": "stdout",
          "text": [
            "15511210043330985984000000\n"
          ]
        }
      ]
    },
    {
      "cell_type": "markdown",
      "source": [
        "Q5. Write a python program to filter the numbers in a given list that are divisible by 2 and 3 using the\n",
        "filter function."
      ],
      "metadata": {
        "id": "q9xs1sfwrbwb"
      }
    },
    {
      "cell_type": "code",
      "source": [
        "data = [2, 3, 6, 9, 27, 60, 90, 120, 55, 46]\n",
        "result = list(filter(lambda x: x%2==0 and x%3==0, data))\n",
        "print(result)"
      ],
      "metadata": {
        "colab": {
          "base_uri": "https://localhost:8080/"
        },
        "id": "BI6rnz5WrbNj",
        "outputId": "d7a84a6f-3bc8-4028-b6a0-e0d99d358830"
      },
      "execution_count": 9,
      "outputs": [
        {
          "output_type": "stream",
          "name": "stdout",
          "text": [
            "[6, 60, 90, 120]\n"
          ]
        }
      ]
    },
    {
      "cell_type": "markdown",
      "source": [
        "Q6. Write a python program to find palindromes in the given list of strings using lambda and filter\n",
        "function."
      ],
      "metadata": {
        "id": "e9RhlFLpsZSC"
      }
    },
    {
      "cell_type": "code",
      "source": [
        "data = ['python', 'php', 'aba', 'radar', 'level']\n",
        "def palindrome(item):\n",
        "  item_copy = item\n",
        "  rev = item[::-1]\n",
        "  if rev == item_copy:\n",
        "    return \"palindrome\"\n",
        "  else:\n",
        "    return \"not palindrome\"\n",
        "for name in data:\n",
        "  print(name + \" is \" + palindrome(name))"
      ],
      "metadata": {
        "colab": {
          "base_uri": "https://localhost:8080/"
        },
        "id": "NTRF6ljgsWQG",
        "outputId": "5b011de7-921e-4c96-81fa-b2d3bf2662c1"
      },
      "execution_count": 13,
      "outputs": [
        {
          "output_type": "stream",
          "name": "stdout",
          "text": [
            "python is not palindrome\n",
            "php is palindrome\n",
            "aba is palindrome\n",
            "radar is palindrome\n",
            "level is palindrome\n"
          ]
        }
      ]
    }
  ]
}