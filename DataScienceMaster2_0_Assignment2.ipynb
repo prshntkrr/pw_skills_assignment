{
  "nbformat": 4,
  "nbformat_minor": 0,
  "metadata": {
    "colab": {
      "provenance": []
    },
    "kernelspec": {
      "name": "python3",
      "display_name": "Python 3"
    },
    "language_info": {
      "name": "python"
    }
  },
  "cells": [
    {
      "cell_type": "markdown",
      "source": [
        "Q1. How do you comment code in Python? What are the different types of comments?"
      ],
      "metadata": {
        "id": "6ChENC3agdsF"
      }
    },
    {
      "cell_type": "code",
      "source": [
        "# for comments we can use # in starting of any statement and for multline we can insert # infront of everyline\n",
        "# also python ignored string literal that are not assigned to any variable like\n",
        "\"for single line\"\n",
        "'''for\n",
        "multi\n",
        "line'''\n",
        "print(\"these are comments\")"
      ],
      "metadata": {
        "colab": {
          "base_uri": "https://localhost:8080/"
        },
        "id": "JGsw-hn_dbiZ",
        "outputId": "697214a5-5d77-4162-aa50-357b03a80d4e"
      },
      "execution_count": 8,
      "outputs": [
        {
          "output_type": "stream",
          "name": "stdout",
          "text": [
            "these are comments\n"
          ]
        }
      ]
    },
    {
      "cell_type": "markdown",
      "source": [
        "Q2. What are variables in Python? How do you declare and assign values to variables?"
      ],
      "metadata": {
        "id": "SPiDn7iMiGj4"
      }
    },
    {
      "cell_type": "code",
      "execution_count": 9,
      "metadata": {
        "id": "EWXq6FwNdSgR"
      },
      "outputs": [],
      "source": [
        "# varibles are used to store some value init and have some memory location.we can assign some value to the variable\n",
        "var1 = 35\n",
        "var2 = \"Skills\"\n",
        "var3 = 76.67\n",
        "var4 = 3+4j"
      ]
    },
    {
      "cell_type": "markdown",
      "source": [
        "Q3. How do you convert one data type to another in Python?"
      ],
      "metadata": {
        "id": "qbHvHEaSiu73"
      }
    },
    {
      "cell_type": "code",
      "source": [
        "# we can simply convert one data type into another by using data type function like\n",
        "string = \"235\"\n",
        "str_to_int = int(string)\n",
        "print(type(str_to_int))\n",
        "integer = 444\n",
        "int_t0_str = str(integer)\n",
        "print(type(int_t0_str))\n",
        "# by this way we can convert one data type to other"
      ],
      "metadata": {
        "colab": {
          "base_uri": "https://localhost:8080/"
        },
        "id": "wGFZ4Amwitf5",
        "outputId": "c802cad5-9557-4ca8-d66c-9af91a56c875"
      },
      "execution_count": 13,
      "outputs": [
        {
          "output_type": "stream",
          "name": "stdout",
          "text": [
            "<class 'int'>\n",
            "<class 'str'>\n"
          ]
        }
      ]
    },
    {
      "cell_type": "markdown",
      "source": [
        "Q4. How do you write and execute a Python script from the command line?"
      ],
      "metadata": {
        "id": "skOQaJc5liIz"
      }
    },
    {
      "cell_type": "code",
      "source": [
        "# we can simply write our commands in python command prompt and hit enter to run it \n",
        "# second if we have python script than we have to execute it by writing python script.py or python3 script.py according to python vresion"
      ],
      "metadata": {
        "id": "jjfhffWklhRw"
      },
      "execution_count": 14,
      "outputs": []
    },
    {
      "cell_type": "markdown",
      "source": [
        "Q5. Given a list my_list = [1, 2, 3, 4, 5], write the code to slice the list and obtain the sub-list [2, 3]."
      ],
      "metadata": {
        "id": "Zmb066w6ncrp"
      }
    },
    {
      "cell_type": "code",
      "source": [
        "my_list = [1, 2, 3, 4, 5]\n",
        "print(my_list[1:3])"
      ],
      "metadata": {
        "colab": {
          "base_uri": "https://localhost:8080/"
        },
        "id": "KZHV7UsxnHIh",
        "outputId": "0169c19e-6e65-4dd6-a636-0132c90b6b8e"
      },
      "execution_count": 15,
      "outputs": [
        {
          "output_type": "stream",
          "name": "stdout",
          "text": [
            "[2, 3]\n"
          ]
        }
      ]
    },
    {
      "cell_type": "markdown",
      "source": [
        "Q6. What is a complex number in mathematics, and how is it represented in Python?"
      ],
      "metadata": {
        "id": "PU29vi49ntnB"
      }
    },
    {
      "cell_type": "code",
      "source": [
        "# complex number are the number that can contain both real and imaginary part\n",
        "# in this 3 is real part and 7j is imaginary part\n",
        "num = 3+7j\n",
        "print(num)"
      ],
      "metadata": {
        "colab": {
          "base_uri": "https://localhost:8080/"
        },
        "id": "2N6tJ0rxnskR",
        "outputId": "1ea845e6-4a2a-4429-f637-0928e7a63926"
      },
      "execution_count": 16,
      "outputs": [
        {
          "output_type": "stream",
          "name": "stdout",
          "text": [
            "(3+7j)\n"
          ]
        }
      ]
    },
    {
      "cell_type": "markdown",
      "source": [
        "Q7. What is the correct way to declare a variable named age and assign the value 25 to it?"
      ],
      "metadata": {
        "id": "xmUcbyVloOtN"
      }
    },
    {
      "cell_type": "code",
      "source": [
        "# the correct way to declare a variable is\n",
        "age = 25\n",
        "print(age)"
      ],
      "metadata": {
        "colab": {
          "base_uri": "https://localhost:8080/"
        },
        "id": "g8FVuCSQoN6N",
        "outputId": "f7f5788c-31c2-4b6f-b7ab-490c8b8d782c"
      },
      "execution_count": 18,
      "outputs": [
        {
          "output_type": "stream",
          "name": "stdout",
          "text": [
            "25\n"
          ]
        }
      ]
    },
    {
      "cell_type": "markdown",
      "source": [
        "Q8. Declare a variable named price and assign the value 9.99 to it. What data type does this variable\n",
        "belong to?"
      ],
      "metadata": {
        "id": "peQMm1q-omtG"
      }
    },
    {
      "cell_type": "code",
      "source": [
        "price = 9.99\n",
        "print(type(price))  # its type is float"
      ],
      "metadata": {
        "colab": {
          "base_uri": "https://localhost:8080/"
        },
        "id": "WEfZ6IYdogDE",
        "outputId": "f236b35c-03b8-42f0-b534-bcc5a9bc4414"
      },
      "execution_count": 19,
      "outputs": [
        {
          "output_type": "stream",
          "name": "stdout",
          "text": [
            "<class 'float'>\n"
          ]
        }
      ]
    },
    {
      "cell_type": "markdown",
      "source": [
        "Q9. Create a variable named name and assign your full name to it as a string. How would you print the\n",
        "value of this variable?"
      ],
      "metadata": {
        "id": "szW6X8T7o3VT"
      }
    },
    {
      "cell_type": "code",
      "source": [
        "Name = \"Prashant Kumar\"\n",
        "# we can print its value by using print function\n",
        "print(Name)"
      ],
      "metadata": {
        "colab": {
          "base_uri": "https://localhost:8080/"
        },
        "id": "rDjfPbnao2nx",
        "outputId": "1bd3833b-d1b4-4057-b781-a6765e7050d6"
      },
      "execution_count": 20,
      "outputs": [
        {
          "output_type": "stream",
          "name": "stdout",
          "text": [
            "Prashant Kumar\n"
          ]
        }
      ]
    },
    {
      "cell_type": "markdown",
      "source": [
        "Q10. Given the string \"Hello, World!\", extract the substring \"World\"."
      ],
      "metadata": {
        "id": "zJuszk-5pQ22"
      }
    },
    {
      "cell_type": "code",
      "source": [
        "string = \"Hello, World!\"\n",
        "print(string[7:12])"
      ],
      "metadata": {
        "colab": {
          "base_uri": "https://localhost:8080/"
        },
        "id": "IsiU7GmmpPnL",
        "outputId": "e4440506-285a-4e71-eb46-88414550d4f5"
      },
      "execution_count": 22,
      "outputs": [
        {
          "output_type": "stream",
          "name": "stdout",
          "text": [
            "World\n"
          ]
        }
      ]
    },
    {
      "cell_type": "markdown",
      "source": [
        "Q11. Create a variable named \"is_student\" and assign it a boolean value indicating whether you are\n",
        "currently a student or not."
      ],
      "metadata": {
        "id": "0G7Uoinop9wa"
      }
    },
    {
      "cell_type": "code",
      "source": [
        "is_student = False"
      ],
      "metadata": {
        "id": "DjE8wizLp9F4"
      },
      "execution_count": 23,
      "outputs": []
    }
  ]
}
