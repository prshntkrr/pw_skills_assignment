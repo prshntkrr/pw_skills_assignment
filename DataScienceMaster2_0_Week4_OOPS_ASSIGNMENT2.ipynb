{
  "nbformat": 4,
  "nbformat_minor": 0,
  "metadata": {
    "colab": {
      "provenance": []
    },
    "kernelspec": {
      "name": "python3",
      "display_name": "Python 3"
    },
    "language_info": {
      "name": "python"
    }
  },
  "cells": [
    {
      "cell_type": "markdown",
      "source": [
        "Q1. What is Abstraction in OOps? Explain with an example."
      ],
      "metadata": {
        "id": "521Pq--slF4F"
      }
    },
    {
      "cell_type": "code",
      "execution_count": null,
      "metadata": {
        "id": "8_FY7z3eimJW",
        "colab": {
          "base_uri": "https://localhost:8080/"
        },
        "outputId": "559c505f-2228-425d-9c5a-1a530bb1197a"
      },
      "outputs": [
        {
          "output_type": "stream",
          "name": "stdout",
          "text": [
            "My father name is raman\n",
            "My father number is +91852147XXXX\n"
          ]
        }
      ],
      "source": [
        "# Abstraction is the process of hiding internal data and implementtion from the outer world\n",
        "# In opps we create an abstract function that has only function name not function defination\n",
        "# the child class that can inherit the abstract class can define these functions according to their choce\n",
        "# Example:\n",
        "import abc\n",
        "\n",
        "@abc.abstractmethod\n",
        "class parent:\n",
        "  @abc.abstractmethod\n",
        "  def name(self):\n",
        "    pass\n",
        "\n",
        "  @abc.abstractmethod\n",
        "  def number(self):\n",
        "    pass\n",
        "\n",
        "class child(parent):\n",
        "  def name(self):\n",
        "    print(\"My father name is raman\")\n",
        "  def number(self):\n",
        "    print(\"My father number is +91852147XXXX\")\n",
        "\n",
        "obj = child()\n",
        "obj.name()\n",
        "obj.number()"
      ]
    },
    {
      "cell_type": "markdown",
      "source": [
        "Q2. Differentiate between Abstraction and Encapsulation. Explain with an example."
      ],
      "metadata": {
        "id": "594BzS9jouC0"
      }
    },
    {
      "cell_type": "code",
      "source": [
        "# Encapsulation is the packing of \"data\" and \"functions operating on that data\" into a single component and restricting the access to some of the object's components.\n",
        "# Encapsulation means that the internal representation of an object is generally hidden from view outside of the object's definition.\n",
        "\n",
        "# Abstraction is a mechanism which represent the essential features without including implementation details.\n",
        "\n",
        "# Encapsulation:-- Information hiding.\n",
        "# Abstraction:-- Implementation hiding.\n",
        "\n",
        "# Encapulation example\n",
        "class account:\n",
        "  def __init__(self, balance):\n",
        "    self.__balance = balance\n",
        "\n",
        "  def set_balance(self, amount):\n",
        "    self.__balance = amount\n",
        "\n",
        "  def get_balance(self):\n",
        "    return self.__balance\n",
        "\n",
        "acc = account(12000)\n",
        "# acc.balance            //it shows 'account' object has no attribute 'balance'\n",
        "acc.set_balance(10000)  #setter function call\n",
        "acc.get_balance()       #getter function call\n",
        "\n",
        "# Abstraction Example\n",
        "from abc import ABC, abstractmethod\n",
        "\n",
        "#Abstract Class\n",
        "class Bank(ABC):\n",
        "   def bank_info(self):\n",
        "       print(\"Welcome to bank\")\n",
        "   @abstractmethod\n",
        "   def interest(self):\n",
        "       \"Abstarct Method\"\n",
        "       pass\n",
        "#Sub class/ child class of abstract class\n",
        "class SBI(Bank):\n",
        "\n",
        "   def interest(self):\n",
        "       \"Implementation of abstract method\"\n",
        "       print(\"In sbi bank 5 rupees interest\")\n",
        "\n",
        "s= SBI()\n",
        "s.bank_info ()\n",
        "s.interest()"
      ],
      "metadata": {
        "id": "-0F4fog8otZo",
        "colab": {
          "base_uri": "https://localhost:8080/"
        },
        "outputId": "b5a7baf7-9b63-46a4-923c-270b026d6384"
      },
      "execution_count": 7,
      "outputs": [
        {
          "output_type": "stream",
          "name": "stdout",
          "text": [
            "Welcome to bank\n",
            "In sbi bank 5 rupees interest\n"
          ]
        }
      ]
    },
    {
      "cell_type": "markdown",
      "source": [
        "Q3. What is abc module in python? Why is it used?"
      ],
      "metadata": {
        "id": "Og_M_49KAiu7"
      }
    },
    {
      "cell_type": "code",
      "source": [
        "# Python does not provide abstract classes by default. The ‘abc’ module in the Python library provides the infrastructure for defining custom abstract base classes.\n",
        "\n",
        "# Abstract class cannot be instantiated in python. An Abstract method can be call by its subclasses.\n",
        "\n",
        "# ABC: It is a helper class. we can use it in the area where we want to avoid the confusion of metaclass usage.\n",
        "from abc import ABC, abstractmethod\n",
        "\n",
        "\n",
        "class Calculation(ABC):\n",
        "\n",
        "    @abstractmethod\n",
        "    def add(self):\n",
        "        pass\n",
        "\n",
        "    @abstractmethod\n",
        "    def subtract(self):\n",
        "        pass\n",
        "\n",
        "    def multiply(self):\n",
        "        pass\n",
        "\n",
        "    def division(self):\n",
        "        pass\n",
        "\n",
        "\n",
        "class Calculator(Calculation):\n",
        "\n",
        "    def __init__(self, a, b):\n",
        "        self.a = a\n",
        "        self.b = b\n",
        "\n",
        "    def add(self):\n",
        "        print(self.a + self.b)\n",
        "\n",
        "    def subtract(self):\n",
        "        print(self.a - self.b)\n",
        "\n",
        "\n",
        "take = Calculator(10, 5)\n",
        "take.add()\n",
        "take.subtract()"
      ],
      "metadata": {
        "colab": {
          "base_uri": "https://localhost:8080/"
        },
        "id": "NEjokIC_AiGB",
        "outputId": "df3da683-6124-49f4-a8ac-ade5fc387085"
      },
      "execution_count": 1,
      "outputs": [
        {
          "output_type": "stream",
          "name": "stdout",
          "text": [
            "15\n",
            "5\n"
          ]
        }
      ]
    },
    {
      "cell_type": "markdown",
      "source": [
        "Q4. How can we achieve data abstraction?"
      ],
      "metadata": {
        "id": "v5KRFUmY18HN"
      }
    },
    {
      "cell_type": "code",
      "source": [
        "# Data abstraction in python can be achieved through creating abstract classes and inheriting them later\n",
        "#We can define an abstract method using @abstractmethod keyword on the top of a method. We can use abc module of python to achieve data abstraction in python.\n",
        "# To define an abstract method in python we can import abstractmethod from the abc module of python\n",
        "# abstraction in python\n",
        "from abc import ABC,abstractmethod\n",
        "class Prepbytes(ABC):\n",
        "    @abstractmethod\n",
        "    def my_method(self):\n",
        "        # body will always be empty\n",
        "        Pass\n",
        "# In the above program, First, we import ABC (Abstract Base Class) and abstractmethod from the module abc. After that,\n",
        "# we created a class Prepbytes which extends the class ABC and inside the class, we created a method my_method and\n",
        "# we used the keyword @abstractmethod on top of the method to define it as an abstract method."
      ],
      "metadata": {
        "id": "vo-OXBwh17Sq"
      },
      "execution_count": null,
      "outputs": []
    },
    {
      "cell_type": "markdown",
      "source": [
        "Q5. Can we create an instance of an abstract class? Explain your answer."
      ],
      "metadata": {
        "id": "Sc8Wf44L3kSx"
      }
    },
    {
      "cell_type": "code",
      "source": [
        "# No, we cannot create an instance of an abstract class in most programming languages.\n",
        "# An abstract class is a class that is intended to be inherited by other classes. It often contains abstract methods, which are declared but do not have an implementation\n",
        "# in the abstract class itself. The purpose of an abstract class is to provide a common interface and define a blueprint for its subclasses.\n",
        "\n",
        "# Since an abstract class is incomplete and lacks implementation details, it cannot be instantiated directly. It serves as a base for derived classes to inherit from and\n",
        "# implement the abstract methods.\n",
        "\n",
        "# To create an object or instance of a class, we need to instantiate a concrete class that extends or implements the abstract class.\n",
        "# The concrete class provides the implementation for the abstract methods and can be instantiated to create objects."
      ],
      "metadata": {
        "id": "WQSv_gxH3js9"
      },
      "execution_count": null,
      "outputs": []
    }
  ]
}