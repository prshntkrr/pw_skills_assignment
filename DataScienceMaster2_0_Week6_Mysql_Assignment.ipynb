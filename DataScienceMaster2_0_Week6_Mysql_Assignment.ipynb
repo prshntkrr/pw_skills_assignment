{
  "nbformat": 4,
  "nbformat_minor": 0,
  "metadata": {
    "colab": {
      "provenance": []
    },
    "kernelspec": {
      "name": "python3",
      "display_name": "Python 3"
    },
    "language_info": {
      "name": "python"
    }
  },
  "cells": [
    {
      "cell_type": "markdown",
      "source": [
        "Q1. What is a database? Differentiate between SQL and NoSQL databases."
      ],
      "metadata": {
        "id": "z9UVZxGHV-WT"
      }
    },
    {
      "cell_type": "code",
      "execution_count": null,
      "metadata": {
        "id": "OFndy78rVtr9"
      },
      "outputs": [],
      "source": [
        "# Database is the collection of organized data that is structured and stored electronically on a computer system. Databases can store data in the form of tables depending upon\n",
        "# the type of database. The database's primary goal is to store a huge amount of data.\n",
        "# Many dynamic websites on the Internet today are stored in databases.  For writing and retrieving data, most databases utilize structured query language (SQL).\n",
        "# This data is mostly managed by database administrators and accessed by data scientists, data analysts, etc.\n",
        "# Difference between SQL and NOSQL databases are:\n",
        "# * SQL  is primarily called RDBMS or Relational Databases, whereas NoSQL is a Non-relational or Distributed Database.\n",
        "# * SQL databases are table-based databases, whereas NoSQL databases can be document-based, key-value pairs, and graph databases.\n",
        "# * SQL databases have a predefined schema, whereas NoSQL databases use a dynamic schema for unstructured data.\n",
        "# * Comparing NoSQL vs SQL performance, SQL requires specialized DB hardware for better performance while NoSQL uses commodity hardware."
      ]
    },
    {
      "cell_type": "markdown",
      "source": [
        "Q2. What is DDL? Explain why CREATE, DROP, ALTER, and TRUNCATE are used with an example."
      ],
      "metadata": {
        "id": "UrOwm-dj2z5Z"
      }
    },
    {
      "cell_type": "code",
      "source": [
        "DDL is used to create and modify the structure of objects in a database using predefined commands and a specific syntax. these databases objects include table, locations, schmass,\n",
        "and indexes.\n",
        "* CREATE: CREATE command is used to create an object in databases.\n",
        "        syntax: CREATE TABLE [table name] ([column definitions]);\n",
        "        example: CREATE TABLE student(\n",
        "                                      StudentID int,\n",
        "                                      LastName varchar(255),\n",
        "                                      FirstName varchar(255));\n",
        "* DROP: DROP command is used to delete the objects in a databases. drcop command can't be undone means once an object is deleted it can can not be recovered.\n",
        "        syntax: DROP object-type object-name\n",
        "        example: DROP TABLE student\n",
        "* ALTER: ALTER command is used to make modifications in database objects.\n",
        "        syntax: ALTER object-type object-name parameters;\n",
        "        example: ALTER TABLE student\n",
        "                 ADD Email varchar(255);\n",
        "* TRUNCATE: TRUNCATE command is used to delete all data from the table.\n",
        "        syntax: TRUNCATE table table-name\n",
        "        example: TRUNCATE table student"
      ],
      "metadata": {
        "id": "XZpU7OYF2yi-"
      },
      "execution_count": null,
      "outputs": []
    },
    {
      "cell_type": "markdown",
      "source": [
        "Q3. What is DML? Explain INSERT, UPDATE, and DELETE with an example."
      ],
      "metadata": {
        "id": "Gh8EzCCs9oC2"
      }
    },
    {
      "cell_type": "code",
      "source": [
        "# DML stands for Data Manipulation Language. The DML commands in Structured Query Language (SQL) are responsible for making any change in the data present in SQL databases.\n",
        "# The change can be anything, it can be inserting new records in the table, or altering the data present in the table or removing some existing data from the database table.\n",
        "* Insert: INSERT command is used to insert data into rows of table.\n",
        "        syntax: INSERT INTO table_name\n",
        "                VALUES (value_1, value_2, .... value_n);\n",
        "        example: INSERT INTO student\n",
        "                VALUES (25, \"CHAUHAN\", \"RHUL\");\n",
        "* UPDATE: UPDATE command is used to update the value of a row in table.\n",
        "        syntax: UPDATE table_name\n",
        "        SET col_1 = value_1, col_2 = value_2,...\n",
        "        WHERE condition;\n",
        "        example: UPDATE student\n",
        "                 SET emmail=\"rahulchauhan02@gmail.com\"\n",
        "                 WHERE StudentID = 25;\n",
        "* DELETE: DELETE command is used to delete single or multiple records from table\n",
        "        syntax: DELETE FROM table_name WHERE condition;\n",
        "        example: DELETE FROM student WHERE StudentID=25"
      ],
      "metadata": {
        "id": "K_0bYneu9ndw"
      },
      "execution_count": null,
      "outputs": []
    },
    {
      "cell_type": "markdown",
      "source": [
        "Q4. What is DQL? Explain SELECT with an example."
      ],
      "metadata": {
        "id": "peZVIGFoXQW-"
      }
    },
    {
      "cell_type": "code",
      "source": [
        "The DQL statements can be used in order to query the data and information contained in schema objects. The goal of the DQL Commands is to return a schema relation on the\n",
        " basis of the query supplied to them.\n",
        " DQL is a portion of a SQL statement that allows you to get and organise data from a database. You can use the SELECT command to extract data from a database in order to\n",
        " perform actions on it\n",
        " syntax: SELECT * from table-name\n",
        " example: SELECT * FROM student where StudentId < 26;"
      ],
      "metadata": {
        "id": "AMoSWuyeXPyB"
      },
      "execution_count": null,
      "outputs": []
    },
    {
      "cell_type": "markdown",
      "source": [
        "Q5. Explain Primary Key and Foreign Key."
      ],
      "metadata": {
        "id": "2RodcxBsZ59J"
      }
    },
    {
      "cell_type": "code",
      "source": [
        "Primary key: it is unique key constraints that can contain unique value also its not null. these are the columns that uniquely distinguish all the rows\n",
        "            like in case of student table we make studentID as a Primary key because it is unique for all student\n",
        "            example: CREATE TABLE student (\n",
        "                     StudentID int NOT NULL PRIMARY KEY,\n",
        "                     LastName varchar(255) NOT NULL,\n",
        "                     FirstName varchar(255));\n",
        "foreign key: A foreign key is generally used to build a relationship between the two tables. The major purpose of the foreign key is to sustain data integrity between two\n",
        "            separate instances of an entity. like if there is another table of fee details so here studentID is the foriegn key for student table"
      ],
      "metadata": {
        "id": "F13K8CJIZ5N6"
      },
      "execution_count": null,
      "outputs": []
    },
    {
      "cell_type": "markdown",
      "source": [
        "Q6. Write a python code to connect MySQL to python. Explain the cursor() and execute() method."
      ],
      "metadata": {
        "id": "MgUKTcCEdoDi"
      }
    },
    {
      "cell_type": "code",
      "source": [
        "import mysql.connector\n",
        "\n",
        "# Establish a connection to MySQL\n",
        "mydb = mysql.connector.connect(\n",
        "  host=\"localhost\",\n",
        "  user=\"yourusername\",\n",
        "  password=\"yourpassword\",\n",
        "  database=\"yourdatabase\"\n",
        ")\n",
        "\n",
        "# Create a cursor object\n",
        "mycursor = mydb.cursor()\n",
        "\n",
        "# Use the cursor to execute SQL queries\n",
        "mycursor.execute(\"SELECT * FROM yourtable\")\n",
        "\n",
        "# Fetch all the rows from the result set\n",
        "result = mycursor.fetchall()\n",
        "\n",
        "# Loop through the rows and print the data\n",
        "for row in result:\n",
        "  print(row)\n",
        "\n",
        "# Close the cursor and the connection\n",
        "mycursor.close()\n",
        "mydb.close()\n",
        "\n",
        "\n",
        "we create a cursor object using the cursor() method of the connection. The cursor allows us to execute SQL queries and fetch results from the database.\n",
        "\n",
        "The execute() method of the cursor is used to execute SQL queries. we can pass the SQL query as a string to this method."
      ],
      "metadata": {
        "id": "uPifAieDdfcH"
      },
      "execution_count": null,
      "outputs": []
    },
    {
      "cell_type": "markdown",
      "source": [
        "Q7. Give the order of execution of SQL clauses in an SQL query."
      ],
      "metadata": {
        "id": "MLN5vvaOenE6"
      }
    },
    {
      "cell_type": "code",
      "source": [
        "* FROM:\tTables are joined to get the base data.\n",
        "* WHERE:\tThe base data is filtered.\n",
        "* GROUP BY:\tThe filtered base data is grouped.\n",
        "* HAVING:\tThe grouped base data is filtered.\n",
        "* SELECT:\tThe final data is returned.\n",
        "* ORDER BY:\tThe final data is sorted.\n",
        "* LIMIT:\tThe returned data is limited to row count."
      ],
      "metadata": {
        "id": "skMWs116emnE"
      },
      "execution_count": null,
      "outputs": []
    }
  ]
}