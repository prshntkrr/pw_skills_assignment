{
  "nbformat": 4,
  "nbformat_minor": 0,
  "metadata": {
    "colab": {
      "provenance": []
    },
    "kernelspec": {
      "name": "python3",
      "display_name": "Python 3"
    },
    "language_info": {
      "name": "python"
    }
  },
  "cells": [
    {
      "cell_type": "markdown",
      "source": [
        "Q1. What is an Exception in python? Write the difference between Exceptions\n",
        "and Syntax errors"
      ],
      "metadata": {
        "id": "DgjBMW3pqSXn"
      }
    },
    {
      "cell_type": "code",
      "execution_count": null,
      "metadata": {
        "id": "6pEWVUn9n4OE"
      },
      "outputs": [],
      "source": [
        "# An exception in Python is an incident that happens while executing a program it is basically a condition that is not handle by python compiler.\n",
        "# When a Python code comes across a condition it can't handle, it raises an exception. An object in Python that describes an error is called an exception.\n",
        "# syntax errors is a typeof error that can occur when there is an issue in writing syntax or we write erong syntax. we handle it by correct our syntax\n",
        "# exception is basically a condition that is not handle by python compiler it can occur while our syntax is correct. we handle it by using try and except"
      ]
    },
    {
      "cell_type": "markdown",
      "source": [
        "Q2. What happens when an exception is not handled? Explain with an example"
      ],
      "metadata": {
        "id": "6eo4Qg8lsxPl"
      }
    },
    {
      "cell_type": "code",
      "source": [
        "# If an exception is not handled at any point during execution process, it results in an unhandled exception, which typically causes the program to terminate\n",
        "# and an error message to be displayed.\n",
        "a = [\"Python\", \"Exceptions\", \"try and except\"]\n",
        "\n",
        "#looping through the elements of the array a, choosing a range that goes beyond the length of the array\n",
        "for i in range( 4 ):\n",
        "  print( \"The index and element from the array is\", i, a[i] )  # it throw an exception\n",
        "# if we not handle that then further execution get stop."
      ],
      "metadata": {
        "colab": {
          "base_uri": "https://localhost:8080/",
          "height": 264
        },
        "id": "CIkAXmR0sCud",
        "outputId": "48020407-0e95-4add-9c50-a24ba5c5ee89"
      },
      "execution_count": null,
      "outputs": [
        {
          "output_type": "stream",
          "name": "stdout",
          "text": [
            "The index and element from the array is 0 Python\n",
            "The index and element from the array is 1 Exceptions\n",
            "The index and element from the array is 2 try and except\n"
          ]
        },
        {
          "output_type": "error",
          "ename": "IndexError",
          "evalue": "ignored",
          "traceback": [
            "\u001b[0;31m---------------------------------------------------------------------------\u001b[0m",
            "\u001b[0;31mIndexError\u001b[0m                                Traceback (most recent call last)",
            "\u001b[0;32m<ipython-input-4-450a25a4e94f>\u001b[0m in \u001b[0;36m<cell line: 6>\u001b[0;34m()\u001b[0m\n\u001b[1;32m      5\u001b[0m \u001b[0;31m#looping through the elements of the array a, choosing a range that goes beyond the length of the array\u001b[0m\u001b[0;34m\u001b[0m\u001b[0;34m\u001b[0m\u001b[0m\n\u001b[1;32m      6\u001b[0m \u001b[0;32mfor\u001b[0m \u001b[0mi\u001b[0m \u001b[0;32min\u001b[0m \u001b[0mrange\u001b[0m\u001b[0;34m(\u001b[0m \u001b[0;36m4\u001b[0m \u001b[0;34m)\u001b[0m\u001b[0;34m:\u001b[0m\u001b[0;34m\u001b[0m\u001b[0;34m\u001b[0m\u001b[0m\n\u001b[0;32m----> 7\u001b[0;31m   \u001b[0mprint\u001b[0m\u001b[0;34m(\u001b[0m \u001b[0;34m\"The index and element from the array is\"\u001b[0m\u001b[0;34m,\u001b[0m \u001b[0mi\u001b[0m\u001b[0;34m,\u001b[0m \u001b[0ma\u001b[0m\u001b[0;34m[\u001b[0m\u001b[0mi\u001b[0m\u001b[0;34m]\u001b[0m \u001b[0;34m)\u001b[0m  \u001b[0;31m# it throw an exception\u001b[0m\u001b[0;34m\u001b[0m\u001b[0;34m\u001b[0m\u001b[0m\n\u001b[0m",
            "\u001b[0;31mIndexError\u001b[0m: list index out of range"
          ]
        }
      ]
    },
    {
      "cell_type": "markdown",
      "source": [
        "Q3. Which Python statements are used to catch and handle exceptions? Explain with an example."
      ],
      "metadata": {
        "id": "NSuu2Zh5BLkV"
      }
    },
    {
      "cell_type": "code",
      "source": [
        "# the try and except block are used to handle exception.\n",
        "# in try block we put our originalcondition that may occur an error\n",
        "# in except block we print exception or some time the condition correspond to that try block\n",
        "a = [\"Python\", \"Exceptions\", \"try and except\"]\n",
        "try:\n",
        "    #looping through the elements of the array a, choosing a range that goes beyond the length of the array\n",
        "     for i in range( 4 ):\n",
        "        print( \"The index and element from the array is\", i, a[i] )\n",
        "#if an error occurs in the try block, then except block will be executed by the Python interpreter\n",
        "except:\n",
        "    print (\"Index out of range\")"
      ],
      "metadata": {
        "colab": {
          "base_uri": "https://localhost:8080/"
        },
        "id": "J3Ot-paIA_8U",
        "outputId": "a4757fe9-7188-4cfa-d609-74fa25489444"
      },
      "execution_count": null,
      "outputs": [
        {
          "output_type": "stream",
          "name": "stdout",
          "text": [
            "The index and element from the array is 0 Python\n",
            "The index and element from the array is 1 Exceptions\n",
            "The index and element from the array is 2 try and except\n",
            "Index out of range\n"
          ]
        }
      ]
    },
    {
      "cell_type": "markdown",
      "source": [
        "Q4. Explain with an example:\n",
        "try and else,\n",
        "finally,\n",
        "raise"
      ],
      "metadata": {
        "id": "9K9AXhE_CW8m"
      }
    },
    {
      "cell_type": "code",
      "source": [
        "# try and else\n",
        "# in try we put our original condition in which exception may occur\n",
        "# in else we put the condition other than try block condition that can compile in place of try block condition"
      ],
      "metadata": {
        "id": "qP7S-TOlCWZv"
      },
      "execution_count": null,
      "outputs": []
    },
    {
      "cell_type": "code",
      "source": [
        "# try-else\n",
        "def divide(x, y):\n",
        "    try:\n",
        "        result = x // y\n",
        "    except ZeroDivisionError:\n",
        "        print(\"Sorry ! You are dividing by zero \")\n",
        "    else:\n",
        "        print(\"Yeah ! Your answer is :\", result)\n",
        "\n",
        "# Look at parameters and note the working of Program\n",
        "divide(3, 2)\n",
        "divide(3, 0)"
      ],
      "metadata": {
        "colab": {
          "base_uri": "https://localhost:8080/"
        },
        "id": "2ER5BajJDm7y",
        "outputId": "2a8402e8-7101-450f-f07f-27db2e71fb39"
      },
      "execution_count": null,
      "outputs": [
        {
          "output_type": "stream",
          "name": "stdout",
          "text": [
            "Yeah ! Your answer is : 1\n",
            "Sorry ! You are dividing by zero \n"
          ]
        }
      ]
    },
    {
      "cell_type": "code",
      "source": [
        "# finally used in our code to keep in mind that if try and except is not execute then finally will definately execute\n",
        "# finally will always execute either condition true or not\n",
        "def divide(x, y):\n",
        "    try:\n",
        "        result = x // y\n",
        "    except ZeroDivisionError:\n",
        "        print(\"Sorry ! You are dividing by zero \")\n",
        "    else:\n",
        "        print(\"Yeah ! Your answer is :\", result)\n",
        "    finally:\n",
        "        print('This is always executed')\n",
        "\n",
        "# Look at parameters and note the working of Program\n",
        "divide(3, 2)\n",
        "divide(3, 0)"
      ],
      "metadata": {
        "colab": {
          "base_uri": "https://localhost:8080/"
        },
        "id": "TYtvUqdRVBGs",
        "outputId": "bebf0ade-66be-430c-df74-932213b09591"
      },
      "execution_count": null,
      "outputs": [
        {
          "output_type": "stream",
          "name": "stdout",
          "text": [
            "Yeah ! Your answer is : 1\n",
            "This is always executed\n",
            "Sorry ! You are dividing by zero \n",
            "This is always executed\n"
          ]
        }
      ]
    },
    {
      "cell_type": "code",
      "source": [
        "# The raise keyword is used to raise an exception.\n",
        "# You can define what kind of error to raise, and the text to print.\n",
        "x = -1\n",
        "if x<0:\n",
        "  raise Exception(\"Sorry, number less than zero\")"
      ],
      "metadata": {
        "colab": {
          "base_uri": "https://localhost:8080/",
          "height": 209
        },
        "id": "brGkPv2yXliH",
        "outputId": "4767a33e-38cc-4ba4-cd7d-b56f217ef404"
      },
      "execution_count": null,
      "outputs": [
        {
          "output_type": "error",
          "ename": "Exception",
          "evalue": "ignored",
          "traceback": [
            "\u001b[0;31m---------------------------------------------------------------------------\u001b[0m",
            "\u001b[0;31mException\u001b[0m                                 Traceback (most recent call last)",
            "\u001b[0;32m<ipython-input-10-32fe6c6c9142>\u001b[0m in \u001b[0;36m<cell line: 4>\u001b[0;34m()\u001b[0m\n\u001b[1;32m      3\u001b[0m \u001b[0mx\u001b[0m \u001b[0;34m=\u001b[0m \u001b[0;34m-\u001b[0m\u001b[0;36m1\u001b[0m\u001b[0;34m\u001b[0m\u001b[0;34m\u001b[0m\u001b[0m\n\u001b[1;32m      4\u001b[0m \u001b[0;32mif\u001b[0m \u001b[0mx\u001b[0m\u001b[0;34m<\u001b[0m\u001b[0;36m0\u001b[0m\u001b[0;34m:\u001b[0m\u001b[0;34m\u001b[0m\u001b[0;34m\u001b[0m\u001b[0m\n\u001b[0;32m----> 5\u001b[0;31m   \u001b[0;32mraise\u001b[0m \u001b[0mException\u001b[0m\u001b[0;34m(\u001b[0m\u001b[0;34m\"Sorry, number less than zero\"\u001b[0m\u001b[0;34m)\u001b[0m\u001b[0;34m\u001b[0m\u001b[0;34m\u001b[0m\u001b[0m\n\u001b[0m",
            "\u001b[0;31mException\u001b[0m: Sorry, number less than zero"
          ]
        }
      ]
    },
    {
      "cell_type": "markdown",
      "source": [
        "Q5. What are Custom Exceptions in python? Why do we need Custom Exceptions?\n",
        "Explain with an example"
      ],
      "metadata": {
        "id": "WFrSJHzuYEam"
      }
    },
    {
      "cell_type": "code",
      "source": [
        "# custom exception are user defin exception that are genrated by user for particular peice of code\n",
        "# we need custom exception because we want to raise an exception at acertin time that is predefine so at that point of time we create custom exception\n",
        "# Example:\n",
        "class MyException(Exception):\n",
        "    pass\n",
        "\n",
        "raise MyException(\"this is just a demo not proper exception\")"
      ],
      "metadata": {
        "colab": {
          "base_uri": "https://localhost:8080/",
          "height": 209
        },
        "id": "aZ43ENjaYDrj",
        "outputId": "896556af-a286-49e9-d3db-4e437fe8924c"
      },
      "execution_count": null,
      "outputs": [
        {
          "output_type": "error",
          "ename": "MyException",
          "evalue": "ignored",
          "traceback": [
            "\u001b[0;31m---------------------------------------------------------------------------\u001b[0m",
            "\u001b[0;31mMyException\u001b[0m                               Traceback (most recent call last)",
            "\u001b[0;32m<ipython-input-12-5a2aded04e6b>\u001b[0m in \u001b[0;36m<cell line: 7>\u001b[0;34m()\u001b[0m\n\u001b[1;32m      5\u001b[0m     \u001b[0;32mpass\u001b[0m\u001b[0;34m\u001b[0m\u001b[0;34m\u001b[0m\u001b[0m\n\u001b[1;32m      6\u001b[0m \u001b[0;34m\u001b[0m\u001b[0m\n\u001b[0;32m----> 7\u001b[0;31m \u001b[0;32mraise\u001b[0m \u001b[0mMyException\u001b[0m\u001b[0;34m(\u001b[0m\u001b[0;34m\"this is just a demo not proper exception\"\u001b[0m\u001b[0;34m)\u001b[0m\u001b[0;34m\u001b[0m\u001b[0;34m\u001b[0m\u001b[0m\n\u001b[0m",
            "\u001b[0;31mMyException\u001b[0m: this is just a demo not proper exception"
          ]
        }
      ]
    },
    {
      "cell_type": "markdown",
      "source": [
        "Q6. Create a custom exception class. Use this class to handle an exception."
      ],
      "metadata": {
        "id": "al_GvUSXaBcL"
      }
    },
    {
      "cell_type": "code",
      "source": [
        "class CustomException(Exception):\n",
        "    def __init__(self, message):\n",
        "        self.message = message\n",
        "        super().__init__(self.message)\n",
        "\n",
        "\n",
        "# Example function that raises the custom exception\n",
        "def divide_numbers(a, b):\n",
        "    if b == 0:\n",
        "        raise CustomException(\"Cannot divide by zero!\")\n",
        "    return a / b\n",
        "\n",
        "\n",
        "# Example usage\n",
        "try:\n",
        "    result = divide_numbers(10, 0)\n",
        "    print(\"Result:\", result)\n",
        "except CustomException as e:\n",
        "    print(\"CustomException occurred:\", e.message)"
      ],
      "metadata": {
        "colab": {
          "base_uri": "https://localhost:8080/"
        },
        "id": "Oy-XEDwsaAuE",
        "outputId": "ea550b10-4cda-4ae3-b77b-6256797641d9"
      },
      "execution_count": null,
      "outputs": [
        {
          "output_type": "stream",
          "name": "stdout",
          "text": [
            "CustomException occurred: Cannot divide by zero!\n"
          ]
        }
      ]
    }
  ]
}