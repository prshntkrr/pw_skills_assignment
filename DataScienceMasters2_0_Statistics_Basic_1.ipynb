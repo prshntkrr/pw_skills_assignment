{
  "nbformat": 4,
  "nbformat_minor": 0,
  "metadata": {
    "colab": {
      "provenance": []
    },
    "kernelspec": {
      "name": "python3",
      "display_name": "Python 3"
    },
    "language_info": {
      "name": "python"
    }
  },
  "cells": [
    {
      "cell_type": "markdown",
      "source": [
        "Q1. What is Statistics?"
      ],
      "metadata": {
        "id": "Uh0KpsjoBd0i"
      }
    },
    {
      "cell_type": "code",
      "execution_count": null,
      "metadata": {
        "id": "Ly1NKpCJBSMt"
      },
      "outputs": [],
      "source": [
        "# Statistics is a branch of mathematics that involves the collection, analysis, interpretation, presentation, and organization of data. It provides methods and techniques to\n",
        "# understand and make inferences from data, as well as to make informed decisions based on the information gathered."
      ]
    },
    {
      "cell_type": "markdown",
      "source": [
        "Q2. Define the different types of statistics and give an example of when each type might be used."
      ],
      "metadata": {
        "id": "3dtsxmkfCjZ8"
      }
    },
    {
      "cell_type": "code",
      "source": [
        "# Statistics are of two types:\n",
        "# 1. Descripitive Statistics: it consists of organising and summarising data\n",
        "    # eg. what i the average collection of each student in the class\n",
        "# 2. Inferential Statistics: it consist of using data you have measured to from conclusion.\n",
        "    # eg. are the collection of student is similar to the netire school."
      ],
      "metadata": {
        "id": "uPs0uNORCjDm"
      },
      "execution_count": null,
      "outputs": []
    },
    {
      "cell_type": "markdown",
      "source": [
        "Q3. What are the different types of data and how do they differ from each other? Provide an example of\n",
        "each type of data."
      ],
      "metadata": {
        "id": "RazaGxacEG5e"
      }
    },
    {
      "cell_type": "code",
      "source": [
        "# In statistics data are of two types\n",
        "      # * Quantitative: it consist of two parts\n",
        "        # * Discrete: that consist of whole number.     eg. No of cars\n",
        "        # * Continious: that contain fractional data.   eg. Height of a person\n",
        "      # * Qualitative\n",
        "        # * Nominal: that contain category of data without rank.     eg. pincode\n",
        "        # * ordinal: that contain category of data with rank.        eg. customer feedback"
      ],
      "metadata": {
        "id": "riB1qbHOEGmi"
      },
      "execution_count": null,
      "outputs": []
    },
    {
      "cell_type": "markdown",
      "source": [
        "Q4. Categorise the following datasets with respect to quantitative and qualitative data types:"
      ],
      "metadata": {
        "id": "N_9EzkatF8Gz"
      }
    },
    {
      "cell_type": "code",
      "source": [
        "# (i) Grading in exam: A+, A, B+, B, C+, C, D, E: Qualitative Data\n",
        "# (ii) Colour of mangoes: yellow, green, orange, red: Qualitative Data\n",
        "# (iii) Height data of a class: [178.9, 179, 179.5, 176, 177.2, 178.3, 175.8,...]: Quantitative Data\n",
        "# (iv) Number of mangoes exported by a farm: [500, 600, 478, 672, ...]: Quantitative Data"
      ],
      "metadata": {
        "id": "JGv838BVF7x0"
      },
      "execution_count": null,
      "outputs": []
    },
    {
      "cell_type": "markdown",
      "source": [
        "Q5. Explain the concept of levels of measurement and give an example of a variable for each level."
      ],
      "metadata": {
        "id": "6YQo1lmcG1dA"
      }
    },
    {
      "cell_type": "code",
      "source": [
        "# Levels of measurement, also known as scales of measurement, refer to the different ways in which variables can be measured or classified. There are four commonly recognized\n",
        "# levels of measurement: nominal, ordinal, interval, and ratio.\n",
        "# Nominal Level: Variables at the nominal level are categorical and represent different categories or groups.\n",
        "    # Examples: Eye color (e.g., blue, brown, green)\n",
        "# Ordinal Level: Variables at the ordinal level have categories that can be ordered or ranked, but the differences between the categories may not be equal.\n",
        "    # Examples: Educational attainment (e.g., high school, bachelor's degree, master's degree)\n",
        "# interval Level: Variables at the interval level have categories that can be ordered, and the differences between the categories are meaningful and equal. However,\n",
        "#                 there is no true zero point.\n",
        "    # Examples: Temperature measured in Celsius or Fahrenheit\n",
        "# Ratio Level: Variables at the ratio level have categories that can be ordered, and the differences between the categories are meaningful and equal. Additionally,\n",
        "#              they have a true zero point, indicating the absence of the measured quantity.\n",
        "# Examples: Age (e.g., 25 years, 40 years, 65 years)"
      ],
      "metadata": {
        "id": "hJX0Ty9qG1Kq"
      },
      "execution_count": null,
      "outputs": []
    },
    {
      "cell_type": "markdown",
      "source": [
        "Q6. Why is it important to understand the level of measurement when analyzing data? Provide an\n",
        "example to illustrate your answer."
      ],
      "metadata": {
        "id": "5FtsZszQRZLL"
      }
    },
    {
      "cell_type": "code",
      "source": [
        "# Understanding the level of measurement when analyzing data is important because it determines the appropriate statistical techniques and operations that can be applied\n",
        "# to the data. Different levels of measurement have different properties and constraints, and using inappropriate analysis techniques can lead to erroneous conclusions or\n",
        "# misleading results.\n",
        "# Here's an example to illustrate the importance:\n",
        "# Let's consider a research study examining the effect of different teaching methods on student performance in a course. The study collects data on the teaching method used\n",
        "# (nominal), student ratings of teaching effectiveness (ordinal), and the scores achieved by students in a final exam (ratio)."
      ],
      "metadata": {
        "id": "lBriGUPdRY10"
      },
      "execution_count": null,
      "outputs": []
    },
    {
      "cell_type": "markdown",
      "source": [
        "Q7. How nominal data type is different from ordinal data type."
      ],
      "metadata": {
        "id": "D05YfdSX9laV"
      }
    },
    {
      "cell_type": "code",
      "source": [
        "# Nominal data and ordinal data are both categorical variables, but they differ in terms of the nature of the categories and the level of measurement. Here are the key\n",
        "# differences between nominal and ordinal data types:\n",
        "# Nominal Data: Nominal data consists of categories or labels that have no inherent order or ranking.\n",
        "                # Examples:\n",
        "                # Eye color (e.g., blue, brown, green)\n",
        "                # Gender (e.g., male, female, non-binary)\n",
        "# Ordinal Data: Ordinal data consists of categories that have a natural order or ranking.\n",
        "                # Examples:\n",
        "                # Educational attainment (e.g., high school, bachelor's degree, master's degree)\n",
        "                # Rating scale (e.g., poor, fair, good, excellent)\n",
        "# In summary, the key difference lies in the level of measurement and the nature of the relationships between categories. Nominal data represents unordered categories,\n",
        "# while ordinal data represents categories with an inherent order or ranking. Nominal data allows for equality and inequality relationships,\n",
        "# while ordinal data additionally allows for rank relationships."
      ],
      "metadata": {
        "id": "FE-Usm5c9lIu"
      },
      "execution_count": null,
      "outputs": []
    },
    {
      "cell_type": "markdown",
      "source": [
        "Q8. Which type of plot can be used to display data in terms of range?"
      ],
      "metadata": {
        "id": "MOe5GBDa_3Vn"
      }
    },
    {
      "cell_type": "code",
      "source": [
        "# A type of plot that can be used to display data in terms of range is a range plot or range chart.\n",
        "\n",
        "# A range plot visually represents the range of values for a dataset or a set of observations. It typically displays the minimum and maximum values, as well as additional\n",
        "# summary statistics such as the median or quartiles, to provide a sense of the data's spread or variability."
      ],
      "metadata": {
        "id": "Q9jDQJBe_3AC"
      },
      "execution_count": null,
      "outputs": []
    },
    {
      "cell_type": "markdown",
      "source": [
        "Q9. Describe the difference between descriptive and inferential statistics. Give an example of each\n",
        "type of statistics and explain how they are used."
      ],
      "metadata": {
        "id": "worIW9BWANWS"
      }
    },
    {
      "cell_type": "code",
      "source": [
        "# Descriptive Statistics: Descriptive statistics involves summarizing and describing the main characteristics of a dataset. It focuses on organizing, presenting, and analyzing\n",
        "# data in a way that provides insights and a clear understanding of the data. Descriptive statistics aims to describe what the data shows without making any generalizations\n",
        "# beyond the specific dataset. It is commonly used in fields such as market research, social sciences, and data analysis.\n",
        "# Example: Let's consider a dataset that contains the heights (in centimeters) of 100 individuals. Descriptive statistics can be used to calculate measures such as the mean,\n",
        "# median, mode, and standard deviation to summarize the central tendency, variability, and shape of the height distribution.\n",
        "# Inferential Statistics: Inferential statistics involves making predictions, generalizations, or drawing conclusions about a population based on a sample of data. It extends\n",
        "# beyond the observed dataset and aims to infer or estimate population characteristics based on the information available in the sample. Inferential statistics relies on\n",
        "# probability theory and statistical models to make inferences and test hypotheses. It is commonly used in scientific research, surveys, and decision-making.\n",
        "# Example: Consider a situation where a researcher wants to determine if there is a significant difference in the mean height between males and females in a population.\n",
        "# They collect a sample of heights from both groups and use inferential statistics to analyze the data. They may employ techniques such as hypothesis testing (e.g., t-test) to\n",
        "# determine if the observed difference in sample means is statistically significant"
      ],
      "metadata": {
        "id": "kJzibQHLANF7"
      },
      "execution_count": null,
      "outputs": []
    },
    {
      "cell_type": "markdown",
      "source": [
        "Q10. What are some common measures of central tendency and variability used in statistics? Explain\n",
        "how each measure can be used to describe a dataset."
      ],
      "metadata": {
        "id": "7xujIPJ9Bs7w"
      }
    },
    {
      "cell_type": "code",
      "source": [
        "# Measures of Central Tendency:\n",
        "\n",
        "# Mean: The mean is calculated by summing all the values in a dataset and dividing by the total number of observations. It represents the average or typical value of the dataset. The mean is sensitive to extreme values and provides a measure of the dataset's central location.\n",
        "\n",
        "# Median: The median is the middle value in a dataset when it is ordered from smallest to largest. If the dataset has an even number of observations, the median is the average\n",
        "#         of the two middle values. The median is robust to extreme values and provides a measure of the dataset's central value that is less influenced by outliers.\n",
        "\n",
        "# Mode: The mode represents the most frequently occurring value or values in a dataset. It is useful for identifying the most common observation or category in categorical data.\n",
        "#        A dataset can have no mode (if all values occur with the same frequency) or multiple modes (if multiple values have the highest frequency).\n",
        "\n",
        "# Measures of Variability:\n",
        "\n",
        "# Range: The range is the difference between the maximum and minimum values in a dataset. It provides a simple measure of the spread of the data but is sensitive to extreme values.\n",
        "\n",
        "# Variance: Variance measures the average squared deviation of each observation from the mean. It quantifies the dispersion or variability of the data points around the mean.\n",
        "#           A higher variance indicates greater spread in the data.\n",
        "\n",
        "# Standard Deviation: The standard deviation is the square root of the variance. It provides a measure of the average distance between each data point and the mean. A smaller\n",
        "#                     standard deviation indicates less variability in the data, while a larger standard deviation suggests greater variability.\n",
        "\n",
        "# These measures help describe a dataset in the following ways:\n",
        "\n",
        "# Central tendency measures (mean, median, mode) provide information about the typical or central value around which the data points tend to cluster.\n",
        "\n",
        "# Range gives an indication of the spread between the highest and lowest values in the dataset.\n",
        "\n",
        "# Variance and standard deviation quantify the dispersion or variability of the data points around the central value, providing insights into the spread or consistency of the\n",
        "# dataset."
      ],
      "metadata": {
        "id": "wq0UAh_cBsqJ"
      },
      "execution_count": null,
      "outputs": []
    }
  ]
}