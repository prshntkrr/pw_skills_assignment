{
  "nbformat": 4,
  "nbformat_minor": 0,
  "metadata": {
    "colab": {
      "provenance": []
    },
    "kernelspec": {
      "name": "python3",
      "display_name": "Python 3"
    },
    "language_info": {
      "name": "python"
    }
  },
  "cells": [
    {
      "cell_type": "markdown",
      "source": [
        "Q1. What are the three measures of central tendency?"
      ],
      "metadata": {
        "id": "EbGjLg3UUELL"
      }
    },
    {
      "cell_type": "code",
      "execution_count": null,
      "metadata": {
        "id": "VG4KdDcGT-QL"
      },
      "outputs": [],
      "source": [
        "# The three measures of central tendency are:\n",
        "\n",
        "# Mean: The mean is calculated by summing all the values in a dataset and dividing by the total number of observations. It represents the average or arithmetic mean of the\n",
        "# dataset. The mean takes into account the values of all observations and is commonly used to describe the central value or typical value of a dataset.\n",
        "\n",
        "# Median: The median is the middle value in a dataset when it is ordered from smallest to largest. If the dataset has an even number of observations, the median is the average of\n",
        "# the two middle values. The median is robust to outliers and extreme values, making it a useful measure of central tendency when the dataset contains skewed distributions or\n",
        "# when there are outliers present.\n",
        "\n",
        "# Mode: The mode represents the most frequently occurring value(s) in a dataset. It is the value(s) that appears with the highest frequency. A dataset can have no mode (if all\n",
        "# values occur with the same frequency), a unimodal distribution (if one value has the highest frequency), or a multimodal distribution (if multiple values have the same highest\n",
        "# frequency). The mode is particularly useful for categorical or qualitative data."
      ]
    },
    {
      "cell_type": "markdown",
      "source": [
        "Q2. What is the difference between the mean, median, and mode? How are they used to measure the\n",
        "central tendency of a dataset?"
      ],
      "metadata": {
        "id": "pYj9pSrNVcxE"
      }
    },
    {
      "cell_type": "code",
      "source": [
        "# The mean, median, and mode are three different measures of central tendency used to describe the central value or typical value of a dataset. Here's how they differ and how\n",
        "# they are used:\n",
        "\n",
        "Mean:\n",
        "# * The mean is calculated by summing all the values in a dataset and dividing by the total number of observations.\n",
        "# *The mean takes into account the values of all observations and is sensitive to extreme values or outliers.\n",
        "# *It is commonly used to summarize the central tendency of a dataset when the data is approximately symmetrically distributed and does not have extreme values that significantly\n",
        "# affect the overall distribution.\n",
        "# *The mean is used in various statistical calculations and is often used in parametric tests and statistical modeling.\n",
        "\n",
        "Median:\n",
        "\n",
        "# *The median is the middle value in a dataset when it is ordered from smallest to largest. If the dataset has an even number of observations, the median is the average of the\n",
        "# two middle values.\n",
        "# *The median is less affected by extreme values or outliers, making it a robust measure of central tendency.\n",
        "# *It is particularly useful when the dataset is skewed or contains extreme values, as it represents the value that divides the data into two equal halves.\n",
        "# *The median is commonly used in situations where the distribution of data is not symmetrical or when extreme values may skew the mean.\n",
        "\n",
        "Mode:\n",
        "# *The mode represents the most frequently occurring value(s) in a dataset. It is the value(s) that appears with the highest frequency.\n",
        "# *The mode is used to describe the most common or typical value(s) in a dataset.\n",
        "# *It is often used with categorical or qualitative data, where data is grouped into categories or distinct values.\n",
        "# *The mode is useful for identifying the dominant category or value and is applicable when determining the most popular choice or attribute within a dataset."
      ],
      "metadata": {
        "id": "AFtA2H1pVfSX"
      },
      "execution_count": null,
      "outputs": []
    },
    {
      "cell_type": "markdown",
      "source": [
        "Q3. Measure the three measures of central tendency for the given height data:\n",
        "[178,177,176,177,178.2,178,175,179,180,175,178.9,176.2,177,172.5,178,176.5]"
      ],
      "metadata": {
        "id": "uF2qf5HXX90m"
      }
    },
    {
      "cell_type": "code",
      "source": [
        "# Mean:\n",
        "\n",
        "# Add up all the values: 178 + 177 + 176 + 177 + 178.2 + 178 + 175 + 179 + 180 + 175 + 178.9 + 176.2 + 177 + 172.5 + 178 + 176.5 = 2826.3.\n",
        "# Divide the sum by the total number of observations: 2826.3 / 16 = 176.64 (rounded to two decimal places).\n",
        "# The mean height is approximately 176.64.\n",
        "\n",
        "import numpy as np\n",
        "\n",
        "l1 = [178,177,176,177,178.2,178,175,179,180,175,178.9,176.2,177,172.5,178,176.5]\n",
        "mean_res = np.mean(l1)\n",
        "print(mean_res)\n",
        "\n",
        "# Median:\n",
        "\n",
        "# Sort the data in ascending order: 172.5, 175, 175, 176, 176.2, 176.5, 177, 177, 178, 178, 178, 178.2, 178.9, 179, 180.\n",
        "# Identify the middle value(s) in the sorted dataset: The middle value(s) are 177 and 178.\n",
        "# The median height is the average of 177 and 178, which is (177 + 178) / 2 = 177.5.\n",
        "\n",
        "median_res = np.median(l1)\n",
        "print(median_res)\n",
        "\n",
        "# Mode:\n",
        "\n",
        "# Count the frequency of each value: 172.5 (1), 175 (2), 176 (1), 176.2 (1), 176.5 (1), 177 (2), 178 (4), 178.2 (1), 178.9 (1), 179 (1), 180 (1).\n",
        "# Identify the value(s) with the highest frequency: The mode is 178, as it appears most frequently in the dataset.\n",
        "# The mode(s) of the height data is 178.\n",
        "\n",
        "import statistics\n",
        "\n",
        "mode_res = statistics.mode(l1)\n",
        "print(mode_res)"
      ],
      "metadata": {
        "id": "3U8z6hBzX_Jk"
      },
      "execution_count": null,
      "outputs": []
    },
    {
      "cell_type": "markdown",
      "source": [
        "Q4. Find the standard deviation for the given data:\n",
        "[178,177,176,177,178.2,178,175,179,180,175,178.9,176.2,177,172.5,178,176.5]"
      ],
      "metadata": {
        "id": "WoXJY5c6lTbJ"
      }
    },
    {
      "cell_type": "code",
      "source": [
        "import numpy as np\n",
        "l1 = [178,177,176,177,178.2,178,175,179,180,175,178.9,176.2,177,172.5,178,176.5]\n",
        "res = np.std(l1)\n",
        "print(l1)"
      ],
      "metadata": {
        "id": "S73Onr2glSs3"
      },
      "execution_count": null,
      "outputs": []
    },
    {
      "cell_type": "markdown",
      "source": [
        "Q5. How are measures of dispersion such as range, variance, and standard deviation used to describe\n",
        "the spread of a dataset? Provide an example."
      ],
      "metadata": {
        "id": "V3iCSP5emwd2"
      }
    },
    {
      "cell_type": "code",
      "source": [
        "# Measures of dispersion, such as range, variance, and standard deviation, are used to describe the spread or variability of a dataset. They provide insights into how the data\n",
        "# points are distributed or dispersed around a central value, such as the mean or median. Here's how each measure is used:\n",
        "\n",
        "# Range: The range is the simplest measure of dispersion and represents the difference between the maximum and minimum values in a dataset. It provides an indication of the spread\n",
        "# between the extreme values. However, it does not consider the distribution of values within that range.\n",
        "\n",
        "# Example: Consider a dataset of exam scores for a class of students: [75, 80, 82, 85, 90]. The range is calculated as 90 - 75 = 15, indicating that the scores vary by 15 points\n",
        "# from the lowest to the highest.\n",
        "\n",
        "# Variance: Variance measures the average squared deviation of each data point from the mean. It quantifies the dispersion by considering the differences between each observation\n",
        "# and the central value (mean or median). A higher variance indicates a greater spread of data points.\n",
        "\n",
        "# Example: Let's take the same dataset of exam scores: [75, 80, 82, 85, 90]. The mean of this dataset is (75 + 80 + 82 + 85 + 90) / 5 = 82.4. The squared differences from the\n",
        "# mean are [(75-82.4)^2, (80-82.4)^2, (82-82.4)^2, (85-82.4)^2, (90-82.4)^2] = [44.96, 6.76, 0.16, 5.76, 55.36]. The variance is calculated as the average of these squared\n",
        "# differences: (44.96 + 6.76 + 0.16 + 5.76 + 55.36) / 5 = 22.4.\n",
        "\n",
        "# Standard Deviation: The standard deviation is the square root of the variance and provides a measure of the average distance between each data point and the mean. It is\n",
        "# commonly used to describe the spread or dispersion of the data.\n",
        "\n",
        "# Example: Using the previous variance example, the standard deviation is the square root of the variance: √22.4 ≈ 4.72"
      ],
      "metadata": {
        "id": "6h4iJC6fm03x"
      },
      "execution_count": null,
      "outputs": []
    },
    {
      "cell_type": "markdown",
      "source": [
        "Q6. What is a Venn diagram?"
      ],
      "metadata": {
        "id": "TIT5m61LriqC"
      }
    },
    {
      "cell_type": "code",
      "source": [
        "# A Venn diagram is a graphical representation that uses circles or other closed curves to show the relationships between different sets of elements. It visually illustrates\n",
        "# the overlapping or non-overlapping areas among multiple sets.\n",
        "\n",
        "# Circles or closed curves: Each circle represents a set or category of elements. The circles can overlap or be disjointed, depending on the relationships being depicted.\n",
        "\n",
        "# Overlapping areas: If the circles intersect, the overlapping region represents the elements that belong to both sets. This area shows the common elements shared between the sets.\n",
        "\n",
        "# Non-overlapping areas: The portions of the circles outside the overlap represent the elements that are unique to each set. These areas depict the elements that belong\n",
        "# exclusively to one particular set."
      ],
      "metadata": {
        "id": "Ua_nOdHfrmhy"
      },
      "execution_count": null,
      "outputs": []
    },
    {
      "cell_type": "markdown",
      "source": [
        "Q7. For the two given sets A = (2,3,4,5,6,7) & B = (0,2,6,8,10). Find:\n",
        "(i) A B\n",
        "(ii) A ⋃ B"
      ],
      "metadata": {
        "id": "4UZy_o6HsF03"
      }
    },
    {
      "cell_type": "code",
      "source": [
        "A = {2,3,4,5,6,7}\n",
        "B = {0,2,6,8,10}\n",
        "\n",
        "# For intersection of the set\n",
        "res = A.intersection(B)\n",
        "print(res)\n",
        "\n",
        "# For Union of the set\n",
        "resu = A.union(B)\n",
        "print(resu)"
      ],
      "metadata": {
        "colab": {
          "base_uri": "https://localhost:8080/"
        },
        "id": "YbwSV9WzsI3H",
        "outputId": "00a69c5c-43f5-440d-afb6-7edd0d60a721"
      },
      "execution_count": null,
      "outputs": [
        {
          "output_type": "stream",
          "name": "stdout",
          "text": [
            "{2, 6}\n",
            "{0, 2, 3, 4, 5, 6, 7, 8, 10}\n"
          ]
        }
      ]
    },
    {
      "cell_type": "markdown",
      "source": [
        "Q8. What do you understand about skewness in data?"
      ],
      "metadata": {
        "id": "bvvRfPNDtxVr"
      }
    },
    {
      "cell_type": "code",
      "source": [
        "# Skewness in data refers to the asymmetry or lack of symmetry in the distribution of values. It quantifies the extent to which the data deviates from a perfectly symmetric\n",
        "# distribution.\n",
        "\n",
        "# Symmetry: In a perfectly symmetric distribution, the data is evenly distributed around the mean, and the left and right halves of the distribution mirror each other.\n",
        "\n",
        "# Skewed distributions: Skewness arises when the distribution exhibits a longer tail on one side compared to the other. It indicates that the data is not symmetrical.\n",
        "\n",
        "# Positively skewed (right-skewed): In a positively skewed distribution, the tail on the right side is longer, and the majority of values are concentrated on the left side.\n",
        "# The mean is greater than the median, pulling the overall distribution to the right.\n",
        "\n",
        "# Negatively skewed (left-skewed): In a negatively skewed distribution, the tail on the left side is longer, and most values are concentrated on the right side. The mean is\n",
        "# smaller than the median, causing the distribution to be pulled to the left."
      ],
      "metadata": {
        "id": "thJ0o242u_Hy"
      },
      "execution_count": null,
      "outputs": []
    },
    {
      "cell_type": "markdown",
      "source": [
        "Q9. If a data is right skewed then what will be the position of median with respect to mean?"
      ],
      "metadata": {
        "id": "nHFBziSSvkvp"
      }
    },
    {
      "cell_type": "code",
      "source": [
        "# If a dataset is right-skewed, the position of the median will generally be to the left of the mean.\n",
        "\n",
        "# In a right-skewed distribution, the tail on the right side is longer, and the majority of values are concentrated on the left side. As a result, the mean is pulled towards the\n",
        "# longer tail, which contains a few extreme values. The mean is sensitive to outliers or extreme values and tends to be influenced by them."
      ],
      "metadata": {
        "id": "_kWhdX1DvrTr"
      },
      "execution_count": null,
      "outputs": []
    },
    {
      "cell_type": "markdown",
      "source": [
        "Q10. Explain the difference between covariance and correlation. How are these measures used in\n",
        "statistical analysis?"
      ],
      "metadata": {
        "id": "3-AGjrFpv7Y9"
      }
    },
    {
      "cell_type": "code",
      "source": [
        "# Covariance and correlation are both measures of the relationship between two variables in statistical analysis, but they differ in terms of their interpretation and scale.\n",
        "\n",
        "# Covariance:\n",
        "\n",
        "# *Covariance measures the extent and direction of the linear relationship between two variables.\n",
        "# *It measures how changes in one variable are associated with changes in another variable.\n",
        "# *Covariance can take positive, negative, or zero values, representing different types of relationships:\n",
        "    # *Positive covariance indicates that as one variable increases, the other tends to increase as well.\n",
        "    # *Negative covariance indicates that as one variable increases, the other tends to decrease.\n",
        "    # *Zero covariance indicates no linear relationship between the variables.\n",
        "\n",
        "# Correlation:\n",
        "\n",
        "# *Correlation is a standardized measure that quantifies the strength and direction of the linear relationship between two variables.\n",
        "# *It scales the covariance by the standard deviations of the variables, resulting in a correlation coefficient that ranges between -1 and 1.\n",
        "# *A correlation coefficient of +1 indicates a perfect positive linear relationship, -1 indicates a perfect negative linear relationship, and 0 indicates no linear relationship.\n",
        "# *The correlation coefficient not only captures the direction but also the strength of the relationship. A value closer to +1 or -1 indicates a stronger linear relationship,\n",
        "#  while a value closer to 0 indicates a weaker or no relationship.\n",
        "# *Correlation is unitless, making it easier to compare and interpret across different datasets.\n",
        "\n",
        "# *Covariance and correlation are both used to analyze and quantify the relationship between variables in statistical analysis.\n",
        "# *Covariance is used to assess the degree and direction of the linear relationship between variables. It helps determine if two variables move together or in opposite directions.\n",
        "# *Correlation goes a step further by providing a standardized measure of the relationship, allowing for easier comparison and interpretation. It helps understand the strength\n",
        "#  and direction of the linear relationship between variables.\n",
        "# *Both measures are used to assess the association between variables, identify patterns, and determine the dependence or independence of variables in various fields, including\n",
        "#  finance, economics, social sciences, and data analysis.\n",
        "# *Correlation is particularly useful in identifying and evaluating relationships, as it allows for comparisons across different datasets and variables with different units of\n",
        "#  measurement."
      ],
      "metadata": {
        "id": "mIgvMZJpv_ks"
      },
      "execution_count": null,
      "outputs": []
    },
    {
      "cell_type": "markdown",
      "source": [
        "Q11. What is the formula for calculating the sample mean? Provide an example calculation for a\n",
        "dataset."
      ],
      "metadata": {
        "id": "4RNSW_lRxKdn"
      }
    },
    {
      "cell_type": "code",
      "source": [
        "# The formula for calculating the sample mean is:\n",
        "\n",
        "# Sample Mean = (Sum of all data points) / (Number of data points)\n",
        "\n",
        "# To calculate the sample mean, follow these steps:\n",
        "\n",
        "# Add up all the data points in the dataset.\n",
        "# Count the total number of data points in the dataset.\n",
        "# Divide the sum of the data points by the number of data points.\n",
        "# Example calculation:\n",
        "\n",
        "# Consider the dataset of exam scores: [85, 92, 88, 79, 91]\n",
        "\n",
        "# Sum of all data points: 85 + 92 + 88 + 79 + 91 = 435\n",
        "# Number of data points: 5\n",
        "# Sample Mean = 435 / 5 = 87"
      ],
      "metadata": {
        "id": "bS2jvcGfxt2u"
      },
      "execution_count": null,
      "outputs": []
    },
    {
      "cell_type": "markdown",
      "source": [
        "Q12. For a normal distribution data what is the relationship between its measure of central tendency?"
      ],
      "metadata": {
        "id": "7qP1Qsr_x_-n"
      }
    },
    {
      "cell_type": "code",
      "source": [
        "# For a normal distribution, the measures of central tendency (mean, median, and mode) are typically equal or very close to each other.\n",
        "\n",
        "# Mean: The mean is the average of all the data points in a dataset. In a normal distribution, the mean is located at the center of the distribution and acts as the balancing\n",
        "# point. It is the most commonly used measure of central tendency for a normal distribution.\n",
        "\n",
        "# Median: The median represents the middle value in a dataset when it is arranged in ascending or descending order. For a normal distribution, the median is equal to the mean.\n",
        "# This is because a normal distribution is symmetric, with an equal number of observations on either side of the mean. The median is not affected by extreme values or outliers,\n",
        "# making it robust against skewness in the data.\n",
        "\n",
        "# Mode: The mode is the value or values that occur with the highest frequency in a dataset. For a normal distribution, the mode is also equal to the mean and median. Since a\n",
        "# normal distribution is symmetric, there is no distinct peak or mode. Instead, the distribution exhibits a smooth, bell-shaped curve."
      ],
      "metadata": {
        "id": "mwJTuR4yyBHJ"
      },
      "execution_count": null,
      "outputs": []
    },
    {
      "cell_type": "markdown",
      "source": [
        "Q13. How is covariance different from correlation?"
      ],
      "metadata": {
        "id": "BIlH3O1GyYyO"
      }
    },
    {
      "cell_type": "code",
      "source": [
        "# Covariance and correlation are both measures of the relationship between two variables, but they differ in terms of their interpretation, scale, and normalization.\n",
        "\n",
        "# Definition:\n",
        "\n",
        "# Covariance measures the extent and direction of the linear relationship between two variables. It calculates the average of the products of the deviations of corresponding\n",
        "# data points from their respective means.\n",
        "# Correlation, on the other hand, is a standardized measure that quantifies the strength and direction of the linear relationship between two variables. It scales the covariance\n",
        "# by the product of the standard deviations of the variables.\n",
        "\n",
        "# Scale:\n",
        "\n",
        "# Covariance values are not bounded and can range from negative infinity to positive infinity. The magnitude of covariance is dependent on the units of the variables being\n",
        "# measured, making it difficult to compare across different datasets or variables.\n",
        "# Correlation coefficients range between -1 and +1. A value of +1 indicates a perfect positive linear relationship, -1 indicates a perfect negative linear relationship, and 0\n",
        "# indicates no linear relationship. The magnitude of the correlation coefficient indicates the strength of the relationship, regardless of the units of measurement.\n",
        "\n",
        "# Interpretation:\n",
        "\n",
        "# Covariance does not provide a clear indication of the strength or direction of the relationship between variables. It only reveals whether the variables tend to move together\n",
        "# (positive covariance) or in opposite directions (negative covariance).\n",
        "# Correlation coefficients provide a standardized measure of the strength and direction of the linear relationship between variables. They not only indicate the presence of a\n",
        "# relationship but also quantify the degree to which the variables are related."
      ],
      "metadata": {
        "id": "xHS3tdIWygGD"
      },
      "execution_count": null,
      "outputs": []
    },
    {
      "cell_type": "markdown",
      "source": [
        "Q14. How do outliers affect measures of central tendency and dispersion? Provide an example."
      ],
      "metadata": {
        "id": "SyyB1med2p8M"
      }
    },
    {
      "cell_type": "code",
      "source": [
        "# Outliers can significantly affect measures of central tendency and dispersion in a dataset. Here's how outliers impact these measures and an example to illustrate their effects:\n",
        "\n",
        "# Measures of Central Tendency:\n",
        "\n",
        "# Mean: Outliers can have a substantial impact on the mean because it takes into account the values of all observations. A single extreme value can pull the mean towards it,\n",
        "# causing it to be skewed. The mean is not a robust measure and can be heavily influenced by outliers.\n",
        "# Median: Outliers have minimal effect on the median. Since the median represents the middle value in a dataset, it is less affected by extreme values. The median provides a\n",
        "# more robust measure of central tendency, especially when dealing with skewed distributions or datasets with outliers.\n",
        "# Mode: Outliers typically do not impact the mode directly because it represents the most frequently occurring value(s). However, in datasets with outliers, the mode may not\n",
        "# accurately reflect the typical or representative value.\n",
        "\n",
        "# Measures of Dispersion:\n",
        "\n",
        "# Range: Outliers can significantly affect the range by expanding it. The presence of extreme values in the dataset can result in a larger spread between the minimum and maximum\n",
        "# values.\n",
        "# Variance: Outliers can inflate the variance. The squared deviations from the mean used in the variance calculation can be heavily influenced by extreme values, leading to\n",
        "# larger deviations and an increased variance.\n",
        "# Standard Deviation: Similar to variance, outliers can have a substantial impact on the standard deviation. The standard deviation measures the average distance between each\n",
        "# data point and the mean, so extreme values can increase the dispersion and consequently inflate the standard deviation.\n",
        "# Interquartile Range (IQR): Outliers affect the IQR less than the range, variance, or standard deviation. The IQR considers the range between the 25th and 75th percentiles,\n",
        "# which are less affected by extreme values. Thus, the IQR is a more robust measure of dispersion when outliers are present.\n",
        "\n",
        "# Example:\n",
        "# Consider a dataset of exam scores: [80, 85, 90, 92, 95, 200]. The value \"200\" is an outlier compared to the other scores. Here's how the measures are affected:\n",
        "\n",
        "# Mean: The mean will be heavily influenced by the outlier. The sum of all values is 642, and dividing it by 6 (number of observations) gives a mean of approximately 107.\n",
        "# Median: The median will be less affected by the outlier. Since the dataset is sorted, the middle value is 92, which is closer to the typical scores.\n",
        "# Mode: The mode will not be affected directly, as there is no change in the most frequent value, which is not influenced by the outlier.\n",
        "# Range: The range will be increased due to the outlier, from 120 (95 - 80) to 120 (200 - 80).\n",
        "# Variance: The outlier will increase the variance substantially, leading to larger deviations from the mean and a higher variance.\n",
        "# Standard Deviation: Similar to the variance, the standard deviation will be significantly affected and increased due to the presence of the outlier.\n",
        "# Interquartile Range (IQR): The IQR will not be affected much by the outlier since it focuses on the range between the 25th and 75th percentiles, which are not influenced by\n",
        "# extreme values."
      ],
      "metadata": {
        "id": "eESkhSW-2uGT"
      },
      "execution_count": null,
      "outputs": []
    }
  ]
}