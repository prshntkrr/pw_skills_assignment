{
  "nbformat": 4,
  "nbformat_minor": 0,
  "metadata": {
    "colab": {
      "provenance": []
    },
    "kernelspec": {
      "name": "python3",
      "display_name": "Python 3"
    },
    "language_info": {
      "name": "python"
    }
  },
  "cells": [
    {
      "cell_type": "markdown",
      "source": [
        "Q1. Create one variable containing following type of data:\n",
        "(i) string\n",
        "(ii) list\n",
        "(iii) float\n",
        "(iv) tuple"
      ],
      "metadata": {
        "id": "D4f8IIGufdYa"
      }
    },
    {
      "cell_type": "code",
      "execution_count": 1,
      "metadata": {
        "colab": {
          "base_uri": "https://localhost:8080/"
        },
        "id": "1MotFwp-No7g",
        "outputId": "bff0496d-b531-49eb-f9ef-36bdd2599768"
      },
      "outputs": [
        {
          "output_type": "stream",
          "name": "stdout",
          "text": [
            "This is a String. ['Ram', 23, 43.5, (3+7j)] 73.45 ('Sohan', 43, 76)\n"
          ]
        }
      ],
      "source": [
        "var1 = \"This is a String.\"\n",
        "var2 = ['Ram', 23, 43.5, 3+7J]\n",
        "var3 = 73.45\n",
        "var4 = (\"Sohan\", 43, 76)\n",
        "print(var1, var2, var3, var4)"
      ]
    },
    {
      "cell_type": "markdown",
      "source": [
        "Q2. Given are some following variables containing data:\n",
        "(i) var1 = ‘ ‘\n",
        "(ii) var2 = ‘[ DS , ML , Python]’\n",
        "(iii) var3 = [ ‘DS’ , ’ML’ , ‘Python’ ]\n",
        "(iv) var4 = 1.\n",
        "What will be the data type of the above given variable."
      ],
      "metadata": {
        "id": "h-lY7Db8iDam"
      }
    },
    {
      "cell_type": "code",
      "source": [
        "var1 = ''\n",
        "var2 = '[ DS , ML , Python]'\n",
        "var3 = [ 'DS' , 'ML' , 'Python'] \n",
        "var4 = 1.\n",
        "print(type(var1))\n",
        "print(type(var2))\n",
        "print(type(var3))\n",
        "print(type(var4))"
      ],
      "metadata": {
        "colab": {
          "base_uri": "https://localhost:8080/"
        },
        "id": "ANH-JluZiCIG",
        "outputId": "56160f8c-d90c-48b3-d68e-2bc231ec1f2d"
      },
      "execution_count": 2,
      "outputs": [
        {
          "output_type": "stream",
          "name": "stdout",
          "text": [
            "<class 'str'>\n",
            "<class 'str'>\n",
            "<class 'list'>\n",
            "<class 'float'>\n"
          ]
        }
      ]
    },
    {
      "cell_type": "markdown",
      "source": [
        "Q3. Explain the use of the following operators using an example:\n",
        "(i) /\n",
        "(ii) %\n",
        "(iii) //\n",
        "(iv) **"
      ],
      "metadata": {
        "id": "VpjMkwn4ixlF"
      }
    },
    {
      "cell_type": "code",
      "source": [
        "a, b = 10,  3\n",
        "# / is used for division\n",
        "print(a/b)\n",
        "# % is used for modulusor remainder\n",
        "print(a%3)\n",
        "# // is used for floor division\n",
        "print(a//b)\n",
        "# ** is used for power or Exponentiatiob\n",
        "print(a**b)"
      ],
      "metadata": {
        "colab": {
          "base_uri": "https://localhost:8080/"
        },
        "id": "KGLkHWGhiwbz",
        "outputId": "562f5703-a3a3-4cf9-a404-4f7f60e10a68"
      },
      "execution_count": 5,
      "outputs": [
        {
          "output_type": "stream",
          "name": "stdout",
          "text": [
            "3.3333333333333335\n",
            "1\n",
            "3\n",
            "1000\n"
          ]
        }
      ]
    },
    {
      "cell_type": "markdown",
      "source": [
        "Q4. Create a list of length 10 of your choice containing multiple types of data. Using for loop print the\n",
        "element and its data type."
      ],
      "metadata": {
        "id": "v3xR8cH2kDKm"
      }
    },
    {
      "cell_type": "code",
      "source": [
        "list1 = [\"sun\", 32, 55, \"moon\", 72.84, \"stars\", 88.44, 7+6j, 'galaxy', 70]\n",
        "for item in list1:\n",
        "  print(item)"
      ],
      "metadata": {
        "colab": {
          "base_uri": "https://localhost:8080/"
        },
        "id": "-O1Zeu9ukBzq",
        "outputId": "edb4fc5b-d9e4-4abb-86f5-d9388d84f330"
      },
      "execution_count": 7,
      "outputs": [
        {
          "output_type": "stream",
          "name": "stdout",
          "text": [
            "sun\n",
            "32\n",
            "55\n",
            "moon\n",
            "72.84\n",
            "stars\n",
            "88.44\n",
            "(7+6j)\n",
            "galaxy\n",
            "70\n"
          ]
        }
      ]
    },
    {
      "cell_type": "markdown",
      "source": [
        "Q5. Using a while loop, verify if the number A is purely divisible by number B and if so then how many\n",
        "times it can be divisible."
      ],
      "metadata": {
        "id": "AkpBpnNmkwMy"
      }
    },
    {
      "cell_type": "code",
      "source": [
        "A = 25\n",
        "B = 3\n",
        "count = 0\n",
        "while A%b == 0:\n",
        "  A = A//B\n",
        "  count += 1\n",
        "if count > 0:\n",
        "    print(f\"{A} is divisible by {B} and it can be divided {count} times.\")\n",
        "else:\n",
        "    print(f\"{A} is not divisible by {B}.\")\n"
      ],
      "metadata": {
        "colab": {
          "base_uri": "https://localhost:8080/"
        },
        "id": "wuO5X_WzkvKz",
        "outputId": "954c4f21-aa5d-4e74-8cca-38447c497d38"
      },
      "execution_count": 8,
      "outputs": [
        {
          "output_type": "stream",
          "name": "stdout",
          "text": [
            "25 is not divisible by 3.\n"
          ]
        }
      ]
    },
    {
      "cell_type": "markdown",
      "source": [
        "Q6. Create a list containing 25 int type data. Using for loop and if-else condition print if the element is\n",
        "divisible by 3 or not."
      ],
      "metadata": {
        "id": "u77d0iuFnlcw"
      }
    },
    {
      "cell_type": "code",
      "source": [
        "my_list = [1, 2, 3, 4, 5, 6, 7, 8, 9, 10, 11, 12, 13, 14, 15, 16, 17, 18, 19, 20, 21, 22, 23, 24, 25]\n",
        "for num in my_list:\n",
        "  if num%3 == 0:\n",
        "    print(f\"{num} is divisible by 3\")\n",
        "  else:\n",
        "    print(f\"{num} is not divisible by 3\")"
      ],
      "metadata": {
        "colab": {
          "base_uri": "https://localhost:8080/"
        },
        "id": "EWtta1Zknkj1",
        "outputId": "faca1d17-5255-4b92-83bb-11bfc0615dae"
      },
      "execution_count": 9,
      "outputs": [
        {
          "output_type": "stream",
          "name": "stdout",
          "text": [
            "1 is not divisible by 3\n",
            "2 is not divisible by 3\n",
            "3 is divisible by 3\n",
            "4 is not divisible by 3\n",
            "5 is not divisible by 3\n",
            "6 is divisible by 3\n",
            "7 is not divisible by 3\n",
            "8 is not divisible by 3\n",
            "9 is divisible by 3\n",
            "10 is not divisible by 3\n",
            "11 is not divisible by 3\n",
            "12 is divisible by 3\n",
            "13 is not divisible by 3\n",
            "14 is not divisible by 3\n",
            "15 is divisible by 3\n",
            "16 is not divisible by 3\n",
            "17 is not divisible by 3\n",
            "18 is divisible by 3\n",
            "19 is not divisible by 3\n",
            "20 is not divisible by 3\n",
            "21 is divisible by 3\n",
            "22 is not divisible by 3\n",
            "23 is not divisible by 3\n",
            "24 is divisible by 3\n",
            "25 is not divisible by 3\n"
          ]
        }
      ]
    },
    {
      "cell_type": "markdown",
      "source": [
        "Q7. What do you understand about mutable and immutable data types? Give examples for both showing\n",
        "this property."
      ],
      "metadata": {
        "id": "xNmfpJ6dojM9"
      }
    },
    {
      "cell_type": "code",
      "source": [
        "# mutable objects are those that allow us to add delete or replcae an data item in it like list\n",
        "list2 = [23, 28, 46, 85]\n",
        "print(list2)\n",
        "list2[2] = 64\n",
        "print(list2)\n",
        "# immutable objects are those that don't allow us to do all above operations\n",
        "str1 = \"I am a Coder\"\n",
        "print(str1)\n",
        "str1[5] = \"i\" # Here it shows an error\n",
        "print(str1)"
      ],
      "metadata": {
        "colab": {
          "base_uri": "https://localhost:8080/",
          "height": 283
        },
        "id": "bAUwNsCcohjv",
        "outputId": "410ad5b6-1cbe-4e02-a39a-0bd1262eb089"
      },
      "execution_count": 14,
      "outputs": [
        {
          "output_type": "stream",
          "name": "stdout",
          "text": [
            "[23, 28, 46, 85]\n",
            "[23, 28, 64, 85]\n",
            "I am a Coder\n"
          ]
        },
        {
          "output_type": "error",
          "ename": "TypeError",
          "evalue": "ignored",
          "traceback": [
            "\u001b[0;31m---------------------------------------------------------------------------\u001b[0m",
            "\u001b[0;31mTypeError\u001b[0m                                 Traceback (most recent call last)",
            "\u001b[0;32m<ipython-input-14-9e58e1bcef8f>\u001b[0m in \u001b[0;36m<cell line: 9>\u001b[0;34m()\u001b[0m\n\u001b[1;32m      7\u001b[0m \u001b[0mstr1\u001b[0m \u001b[0;34m=\u001b[0m \u001b[0;34m\"I am a Coder\"\u001b[0m\u001b[0;34m\u001b[0m\u001b[0;34m\u001b[0m\u001b[0m\n\u001b[1;32m      8\u001b[0m \u001b[0mprint\u001b[0m\u001b[0;34m(\u001b[0m\u001b[0mstr1\u001b[0m\u001b[0;34m)\u001b[0m\u001b[0;34m\u001b[0m\u001b[0;34m\u001b[0m\u001b[0m\n\u001b[0;32m----> 9\u001b[0;31m \u001b[0mstr1\u001b[0m\u001b[0;34m[\u001b[0m\u001b[0;36m5\u001b[0m\u001b[0;34m]\u001b[0m \u001b[0;34m=\u001b[0m \u001b[0;34m\"i\"\u001b[0m\u001b[0;34m\u001b[0m\u001b[0;34m\u001b[0m\u001b[0m\n\u001b[0m\u001b[1;32m     10\u001b[0m \u001b[0mprint\u001b[0m\u001b[0;34m(\u001b[0m\u001b[0mstr1\u001b[0m\u001b[0;34m)\u001b[0m\u001b[0;34m\u001b[0m\u001b[0;34m\u001b[0m\u001b[0m\n",
            "\u001b[0;31mTypeError\u001b[0m: 'str' object does not support item assignment"
          ]
        }
      ]
    }
  ]
}