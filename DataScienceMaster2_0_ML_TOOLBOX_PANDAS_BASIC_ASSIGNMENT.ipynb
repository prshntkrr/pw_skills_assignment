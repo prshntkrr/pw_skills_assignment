{
  "nbformat": 4,
  "nbformat_minor": 0,
  "metadata": {
    "colab": {
      "provenance": []
    },
    "kernelspec": {
      "name": "python3",
      "display_name": "Python 3"
    },
    "language_info": {
      "name": "python"
    }
  },
  "cells": [
    {
      "cell_type": "markdown",
      "source": [
        "Q1. Create a Pandas Series that contains the following data: 4, 8, 15, 16, 23, and 42. Then, print the series."
      ],
      "metadata": {
        "id": "97LDFFfff2rp"
      }
    },
    {
      "cell_type": "code",
      "execution_count": 2,
      "metadata": {
        "colab": {
          "base_uri": "https://localhost:8080/"
        },
        "id": "yl1mUKb9fj66",
        "outputId": "05693e60-8b5b-43cd-9183-b25ea26a5267"
      },
      "outputs": [
        {
          "output_type": "stream",
          "name": "stdout",
          "text": [
            "0     4\n",
            "1     8\n",
            "2    15\n",
            "3    16\n",
            "4    23\n",
            "5    42\n",
            "dtype: int64\n"
          ]
        }
      ],
      "source": [
        "import pandas as pd\n",
        "series1 = pd.Series([4, 8, 15, 16, 23, 42])\n",
        "print(series1)"
      ]
    },
    {
      "cell_type": "markdown",
      "source": [
        "Q2. Create a variable of list type containing 10 elements in it, and apply pandas.Series function on the\n",
        "variable print it."
      ],
      "metadata": {
        "id": "IwsyMZI9ggVJ"
      }
    },
    {
      "cell_type": "code",
      "source": [
        "data = [12, 15, 45, 56, 95, 48, 35, 81, 49, 55]\n",
        "series2 = pd.Series(data)\n",
        "print(series2)"
      ],
      "metadata": {
        "colab": {
          "base_uri": "https://localhost:8080/"
        },
        "id": "s9au4GgTgfxG",
        "outputId": "25bd785b-5a95-4042-ffdb-7e493405ac82"
      },
      "execution_count": 3,
      "outputs": [
        {
          "output_type": "stream",
          "name": "stdout",
          "text": [
            "0    12\n",
            "1    15\n",
            "2    45\n",
            "3    56\n",
            "4    95\n",
            "5    48\n",
            "6    35\n",
            "7    81\n",
            "8    49\n",
            "9    55\n",
            "dtype: int64\n"
          ]
        }
      ]
    },
    {
      "cell_type": "markdown",
      "source": [
        "Q3. Create a Pandas DataFrame that contains the following data:\n",
        "Name\n",
        "Alice\n",
        "Bob\n",
        "Claire\n",
        "\n",
        "Age\n",
        "25\n",
        "30\n",
        "27\n",
        "\n",
        "Gender\n",
        "Female\n",
        "Male\n",
        "Female\n",
        "\n",
        "Then, print the DataFrame."
      ],
      "metadata": {
        "id": "fg7cKljChCMu"
      }
    },
    {
      "cell_type": "code",
      "source": [
        "name = ['Alice', 'Bob', 'Claire']\n",
        "age = [25, 30, 27]\n",
        "gender = ['Female', 'Male', 'Female']\n",
        "df = pd.DataFrame(list(zip(name, age, gender)), columns = ['Name', 'Age', 'Gender'])\n",
        "print(df)"
      ],
      "metadata": {
        "colab": {
          "base_uri": "https://localhost:8080/"
        },
        "id": "7fq8_88LhBcs",
        "outputId": "53eecfd1-fd05-4bb3-c846-14a2520211ce"
      },
      "execution_count": 4,
      "outputs": [
        {
          "output_type": "stream",
          "name": "stdout",
          "text": [
            "     Name  Age  Gender\n",
            "0   Alice   25  Female\n",
            "1     Bob   30    Male\n",
            "2  Claire   27  Female\n"
          ]
        }
      ]
    },
    {
      "cell_type": "markdown",
      "source": [
        "Q4. What is ‘DataFrame’ in pandas and how is it different from pandas.series? Explain with an example."
      ],
      "metadata": {
        "id": "1JgtzQ44i5cv"
      }
    },
    {
      "cell_type": "code",
      "source": [
        "# Dataframe is a combination of multiple of series or it is similar to table that have multiple rows and columns.\n",
        "# pandas.Series is a particular column or we say that subset of dataframe that cn contain only single column.\n",
        "# Example of dataframe\n",
        "print(df)\n",
        "#example of series\n",
        "print(df['Name'])"
      ],
      "metadata": {
        "colab": {
          "base_uri": "https://localhost:8080/"
        },
        "id": "46BxF30yi42t",
        "outputId": "1ac6f9b6-7643-4e70-b070-a4279b9da7d9"
      },
      "execution_count": 5,
      "outputs": [
        {
          "output_type": "stream",
          "name": "stdout",
          "text": [
            "     Name  Age  Gender\n",
            "0   Alice   25  Female\n",
            "1     Bob   30    Male\n",
            "2  Claire   27  Female\n",
            "0     Alice\n",
            "1       Bob\n",
            "2    Claire\n",
            "Name: Name, dtype: object\n"
          ]
        }
      ]
    },
    {
      "cell_type": "markdown",
      "source": [
        "Q5. What are some common functions you can use to manipulate data in a Pandas DataFrame? Can\n",
        "you give an example of when you might use one of these functions?"
      ],
      "metadata": {
        "id": "7Fxy01Czjzli"
      }
    },
    {
      "cell_type": "code",
      "source": [
        "# some common functions use to manipulate pandas DataFrame\n",
        "# head(): Returns the first n rows of the DataFrame.\n",
        "# tail(): Returns the last n rows of the DataFrame.\n",
        "# info(): Provides a summary of the DataFrame, including the data types and column names.\n",
        "# describe(): Generates descriptive statistics of the DataFrame, such as count, mean, min, max, etc.\n",
        "# shape: Returns the dimensions of the DataFrame (number of rows, number of columns).\n",
        "# columns: Returns the column labels of the DataFrame.\n",
        "# index: Returns the row labels of the DataFrame.\n",
        "# head():\n",
        "df.head(2)\n",
        "# tail():\n",
        "df.tail(2)\n",
        "# info():\n",
        "df.info()\n",
        "# describe():\n",
        "df.describe()\n",
        "# shape:\n",
        "df.shape\n",
        "# columns:\n",
        "df.columns\n",
        "# index:\n",
        "df.index"
      ],
      "metadata": {
        "colab": {
          "base_uri": "https://localhost:8080/"
        },
        "id": "7mOORTNSjurL",
        "outputId": "b6831b17-a90e-4f97-af1f-232f15f31e15"
      },
      "execution_count": 14,
      "outputs": [
        {
          "output_type": "stream",
          "name": "stdout",
          "text": [
            "<class 'pandas.core.frame.DataFrame'>\n",
            "RangeIndex: 3 entries, 0 to 2\n",
            "Data columns (total 3 columns):\n",
            " #   Column  Non-Null Count  Dtype \n",
            "---  ------  --------------  ----- \n",
            " 0   Name    3 non-null      object\n",
            " 1   Age     3 non-null      int64 \n",
            " 2   Gender  3 non-null      object\n",
            "dtypes: int64(1), object(2)\n",
            "memory usage: 200.0+ bytes\n"
          ]
        },
        {
          "output_type": "execute_result",
          "data": {
            "text/plain": [
              "RangeIndex(start=0, stop=3, step=1)"
            ]
          },
          "metadata": {},
          "execution_count": 14
        }
      ]
    },
    {
      "cell_type": "markdown",
      "source": [
        "Q6. Which of the following is mutable in nature Series, DataFrame, Panel?"
      ],
      "metadata": {
        "id": "YQGi2FRTlxMp"
      }
    },
    {
      "cell_type": "code",
      "source": [
        "# Here Series and DataFrame are mutable in nature means the element of both the datatypes have been modified.\n",
        "# DataFrame is a two-dimensional structure that can contain data in the form of table.\n",
        "# A Series in Pandas is a one-dimensional labeled array that can hold any data type. It is mutable, meaning its elements can be modified.\n",
        "# Panel, on the other hand, was a three-dimensional data structure in earlier versions of Pandas. However, it has been deprecated and is no longer recommended for use."
      ],
      "metadata": {
        "id": "Sl9H9ChwlwlS"
      },
      "execution_count": null,
      "outputs": []
    },
    {
      "cell_type": "markdown",
      "source": [
        "Q7. Create a DataFrame using multiple Series. Explain with an example."
      ],
      "metadata": {
        "id": "ZzJmmEeEpPDa"
      }
    },
    {
      "cell_type": "code",
      "source": [
        "import pandas as pd\n",
        "\n",
        "# Create a Series for the 'Name' column\n",
        "names = pd.Series(['John', 'Jane', 'Alice'])\n",
        "\n",
        "# Create a Series for the 'Age' column\n",
        "ages = pd.Series([25, 30, 35])\n",
        "\n",
        "# Create a Series for the 'Gender' column\n",
        "gender = pd.Series(['Female', 'Male', 'Female'])\n",
        "# Create a DataFrame using the Series\n",
        "df = pd.DataFrame({'Name': names, 'Age': ages, 'Gender': gender})\n",
        "\n",
        "# Print the DataFrame\n",
        "print(df)\n"
      ],
      "metadata": {
        "colab": {
          "base_uri": "https://localhost:8080/"
        },
        "id": "DSsWpy1NpOhp",
        "outputId": "785ae843-8ee5-4c3d-aed7-a774d12967c9"
      },
      "execution_count": 16,
      "outputs": [
        {
          "output_type": "stream",
          "name": "stdout",
          "text": [
            "    Name  Age  Gender\n",
            "0   John   25  Female\n",
            "1   Jane   30    Male\n",
            "2  Alice   35  Female\n"
          ]
        }
      ]
    }
  ]
}